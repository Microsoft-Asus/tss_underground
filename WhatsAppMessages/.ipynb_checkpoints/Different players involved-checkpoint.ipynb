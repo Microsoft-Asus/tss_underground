{
 "cells": [
  {
   "cell_type": "code",
   "execution_count": 3,
   "metadata": {},
   "outputs": [
    {
     "name": "stdout",
     "output_type": "stream",
     "text": [
      "Social media marketing 20:\n",
      "Tech Business group:\n",
      "Social media marketing 3:\n",
      "Rock Bikers🥏:\n",
      "Ivr leads available:\n",
      "Lost premium Support:\n",
      "👩‍🎤hamari adhuri kahani:\n",
      "10. Ap group Rahul Singh☕:\n",
      "Australia Bank Loading :\n",
      "Corona worriors, 💂🏻‍♂️:\n",
      "Cards Blocking & Refund:\n",
      "blackscreen remote softwa:\n",
      "Website vala:\n",
      "(43307, 5)\n"
     ]
    },
    {
     "data": {
      "text/html": [
       "<div>\n",
       "<style scoped>\n",
       "    .dataframe tbody tr th:only-of-type {\n",
       "        vertical-align: middle;\n",
       "    }\n",
       "\n",
       "    .dataframe tbody tr th {\n",
       "        vertical-align: top;\n",
       "    }\n",
       "\n",
       "    .dataframe thead th {\n",
       "        text-align: right;\n",
       "    }\n",
       "</style>\n",
       "<table border=\"1\" class=\"dataframe\">\n",
       "  <thead>\n",
       "    <tr style=\"text-align: right;\">\n",
       "      <th></th>\n",
       "      <th>date</th>\n",
       "      <th>name</th>\n",
       "      <th>message</th>\n",
       "      <th>chat group name</th>\n",
       "      <th>message_text</th>\n",
       "    </tr>\n",
       "  </thead>\n",
       "  <tbody>\n",
       "    <tr>\n",
       "      <th>0</th>\n",
       "      <td>11/6/19, 11:31:28 AM]</td>\n",
       "      <td>Social media marketing 20:</td>\n",
       "      <td>NaN</td>\n",
       "      <td>chat_12.txt</td>\n",
       "      <td>‎Messages and calls are end-to-end encrypted. ...</td>\n",
       "    </tr>\n",
       "    <tr>\n",
       "      <th>1</th>\n",
       "      <td>11/6/19, 11:31:28 AM]</td>\n",
       "      <td>‎‪+91 98907 76732‬ created this group\\n[11/8/1...</td>\n",
       "      <td>NaN</td>\n",
       "      <td>chat_12.txt</td>\n",
       "      <td>*🥳Next week advance prediction video now avail...</td>\n",
       "    </tr>\n",
       "    <tr>\n",
       "      <th>2</th>\n",
       "      <td>11/9/19, 10:55:40 AM]</td>\n",
       "      <td>‪+234 701 028 3792‬:</td>\n",
       "      <td>NaN</td>\n",
       "      <td>chat_12.txt</td>\n",
       "      <td>```Is there any loader in this groups in need ...</td>\n",
       "    </tr>\n",
       "    <tr>\n",
       "      <th>3</th>\n",
       "      <td>11/9/19, 11:53:46 AM]</td>\n",
       "      <td>‪+91 90413 82638‬:</td>\n",
       "      <td>NaN</td>\n",
       "      <td>chat_12.txt</td>\n",
       "      <td>*ZEFTRON SOLUTIONS*\\n\\n *INSTANT PAYOUT*\\n\\n *...</td>\n",
       "    </tr>\n",
       "    <tr>\n",
       "      <th>4</th>\n",
       "      <td>11/9/19, 12:01:33 PM]</td>\n",
       "      <td>‪+255 745 032 469‬:</td>\n",
       "      <td>NaN</td>\n",
       "      <td>chat_12.txt</td>\n",
       "      <td>‎image omitted\\n[</td>\n",
       "    </tr>\n",
       "  </tbody>\n",
       "</table>\n",
       "</div>"
      ],
      "text/plain": [
       "                    date                                               name  \\\n",
       "0  11/6/19, 11:31:28 AM]                         Social media marketing 20:   \n",
       "1  11/6/19, 11:31:28 AM]  ‎‪+91 98907 76732‬ created this group\\n[11/8/1...   \n",
       "2  11/9/19, 10:55:40 AM]                               ‪+234 701 028 3792‬:   \n",
       "3  11/9/19, 11:53:46 AM]                                 ‪+91 90413 82638‬:   \n",
       "4  11/9/19, 12:01:33 PM]                                ‪+255 745 032 469‬:   \n",
       "\n",
       "  message chat group name                                       message_text  \n",
       "0     NaN     chat_12.txt  ‎Messages and calls are end-to-end encrypted. ...  \n",
       "1     NaN     chat_12.txt  *🥳Next week advance prediction video now avail...  \n",
       "2     NaN     chat_12.txt  ```Is there any loader in this groups in need ...  \n",
       "3     NaN     chat_12.txt  *ZEFTRON SOLUTIONS*\\n\\n *INSTANT PAYOUT*\\n\\n *...  \n",
       "4     NaN     chat_12.txt                                  ‎image omitted\\n[  "
      ]
     },
     "execution_count": 3,
     "metadata": {},
     "output_type": "execute_result"
    }
   ],
   "source": [
    "import sys\n",
    "import os\n",
    "import pandas as pd\n",
    "import numpy as np\n",
    "import re\n",
    "\n",
    "\n",
    "def read_file(filename):\n",
    "    file = open(filename, mode='r', encoding='utf-8')\n",
    "    data = file.read()\n",
    "    file.close()   \n",
    "    return data\n",
    "\n",
    "def make_dataframe(data):\n",
    "    messages = re.findall('(\\d+/\\d+/\\d+, \\d+:\\d+:\\d+ [A-Z]*]) (.*?:) (.*?\\[)', data, flags=re.DOTALL)\n",
    "    temp_df = pd.DataFrame(messages, columns=['date', 'name', 'message_text'])\n",
    "    return temp_df\n",
    "\n",
    "\n",
    "folder_path = './Chats'\n",
    "df = pd.DataFrame(columns=['date', 'actor_id', 'message', 'chat group name'])\n",
    "\n",
    "for f in os.listdir(folder_path):\n",
    "    f_path = folder_path + '/' + f\n",
    "    data = read_file(f_path)\n",
    "    temp_df = make_dataframe(data)\n",
    "    temp_df['chat group name'] = f\n",
    "    print(temp_df['name'][0])\n",
    "    df = df.append(temp_df)\n",
    "    \n",
    "print(df.shape)\n",
    "df.head()"
   ]
  },
  {
   "cell_type": "code",
   "execution_count": 4,
   "metadata": {},
   "outputs": [
    {
     "data": {
      "text/plain": [
       "(23028, 6)"
      ]
     },
     "execution_count": 4,
     "metadata": {},
     "output_type": "execute_result"
    }
   ],
   "source": [
    "import re\n",
    "import phonenumbers\n",
    "\n",
    "def has_numbers(input_string):\n",
    "    numbers = re.findall('(\\d)', input_string)\n",
    "    if len(numbers) == 0:\n",
    "        return False\n",
    "    \n",
    "    if len(numbers) == 1: \n",
    "        if phonenumbers.PhoneNumberMatcher(input_string, 'US'):\n",
    "            return False\n",
    "    \n",
    "    return True\n",
    "    \n",
    "\n",
    "df['has_digit'] = df['message_text'].apply(has_numbers) \n",
    "df[df['has_digit'] == True].shape"
   ]
  },
  {
   "cell_type": "code",
   "execution_count": 5,
   "metadata": {},
   "outputs": [
    {
     "data": {
      "text/plain": [
       "(0, 7)"
      ]
     },
     "execution_count": 5,
     "metadata": {},
     "output_type": "execute_result"
    }
   ],
   "source": [
    "def empty_post(msg):\n",
    "    if msg == 'na':\n",
    "         return True\n",
    "    return False\n",
    "\n",
    "df['empty_post'] = df['message_text'].apply(empty_post)\n",
    "df[df['empty_post'] == True].shape"
   ]
  },
  {
   "cell_type": "code",
   "execution_count": 6,
   "metadata": {},
   "outputs": [
    {
     "name": "stdout",
     "output_type": "stream",
     "text": [
      "(3275, 8)\n",
      "(814, 7)\n"
     ]
    },
    {
     "ename": "KeyError",
     "evalue": "'actor_id'",
     "output_type": "error",
     "traceback": [
      "\u001b[0;31m---------------------------------------------------------------------------\u001b[0m",
      "\u001b[0;31mKeyError\u001b[0m                                  Traceback (most recent call last)",
      "\u001b[0;32m<ipython-input-6-559e593712b9>\u001b[0m in \u001b[0;36m<module>\u001b[0;34m()\u001b[0m\n\u001b[1;32m     50\u001b[0m \u001b[0;34m\u001b[0m\u001b[0m\n\u001b[1;32m     51\u001b[0m \u001b[0mprint\u001b[0m\u001b[0;34m(\u001b[0m\u001b[0mpd\u001b[0m\u001b[0;34m.\u001b[0m\u001b[0mpivot_table\u001b[0m\u001b[0;34m(\u001b[0m\u001b[0mtemp\u001b[0m\u001b[0;34m,\u001b[0m \u001b[0mindex\u001b[0m\u001b[0;34m=\u001b[0m\u001b[0;34m[\u001b[0m\u001b[0;34m'message_text'\u001b[0m\u001b[0;34m]\u001b[0m\u001b[0;34m,\u001b[0m \u001b[0maggfunc\u001b[0m\u001b[0;34m=\u001b[0m\u001b[0mpd\u001b[0m\u001b[0;34m.\u001b[0m\u001b[0mSeries\u001b[0m\u001b[0;34m.\u001b[0m\u001b[0mcount\u001b[0m\u001b[0;34m)\u001b[0m\u001b[0;34m.\u001b[0m\u001b[0mshape\u001b[0m\u001b[0;34m)\u001b[0m\u001b[0;34m\u001b[0m\u001b[0;34m\u001b[0m\u001b[0m\n\u001b[0;32m---> 52\u001b[0;31m \u001b[0mprint\u001b[0m\u001b[0;34m(\u001b[0m\u001b[0mpd\u001b[0m\u001b[0;34m.\u001b[0m\u001b[0mpivot_table\u001b[0m\u001b[0;34m(\u001b[0m\u001b[0mtemp\u001b[0m\u001b[0;34m,\u001b[0m \u001b[0mindex\u001b[0m\u001b[0;34m=\u001b[0m\u001b[0;34m[\u001b[0m\u001b[0;34m'actor_id'\u001b[0m\u001b[0;34m]\u001b[0m\u001b[0;34m,\u001b[0m \u001b[0maggfunc\u001b[0m\u001b[0;34m=\u001b[0m\u001b[0mpd\u001b[0m\u001b[0;34m.\u001b[0m\u001b[0mSeries\u001b[0m\u001b[0;34m.\u001b[0m\u001b[0mcount\u001b[0m\u001b[0;34m)\u001b[0m\u001b[0;34m.\u001b[0m\u001b[0mshape\u001b[0m\u001b[0;34m)\u001b[0m\u001b[0;34m\u001b[0m\u001b[0;34m\u001b[0m\u001b[0m\n\u001b[0m",
      "\u001b[0;32m/anaconda3/lib/python3.7/site-packages/pandas/core/reshape/pivot.py\u001b[0m in \u001b[0;36mpivot_table\u001b[0;34m(data, values, index, columns, aggfunc, fill_value, margins, dropna, margins_name, observed)\u001b[0m\n\u001b[1;32m    109\u001b[0m         \u001b[0mvalues\u001b[0m \u001b[0;34m=\u001b[0m \u001b[0mlist\u001b[0m\u001b[0;34m(\u001b[0m\u001b[0mvalues\u001b[0m\u001b[0;34m)\u001b[0m\u001b[0;34m\u001b[0m\u001b[0;34m\u001b[0m\u001b[0m\n\u001b[1;32m    110\u001b[0m \u001b[0;34m\u001b[0m\u001b[0m\n\u001b[0;32m--> 111\u001b[0;31m     \u001b[0mgrouped\u001b[0m \u001b[0;34m=\u001b[0m \u001b[0mdata\u001b[0m\u001b[0;34m.\u001b[0m\u001b[0mgroupby\u001b[0m\u001b[0;34m(\u001b[0m\u001b[0mkeys\u001b[0m\u001b[0;34m,\u001b[0m \u001b[0mobserved\u001b[0m\u001b[0;34m=\u001b[0m\u001b[0mobserved\u001b[0m\u001b[0;34m)\u001b[0m\u001b[0;34m\u001b[0m\u001b[0;34m\u001b[0m\u001b[0m\n\u001b[0m\u001b[1;32m    112\u001b[0m     \u001b[0magged\u001b[0m \u001b[0;34m=\u001b[0m \u001b[0mgrouped\u001b[0m\u001b[0;34m.\u001b[0m\u001b[0magg\u001b[0m\u001b[0;34m(\u001b[0m\u001b[0maggfunc\u001b[0m\u001b[0;34m)\u001b[0m\u001b[0;34m\u001b[0m\u001b[0;34m\u001b[0m\u001b[0m\n\u001b[1;32m    113\u001b[0m     \u001b[0;32mif\u001b[0m \u001b[0mdropna\u001b[0m \u001b[0;32mand\u001b[0m \u001b[0misinstance\u001b[0m\u001b[0;34m(\u001b[0m\u001b[0magged\u001b[0m\u001b[0;34m,\u001b[0m \u001b[0mABCDataFrame\u001b[0m\u001b[0;34m)\u001b[0m \u001b[0;32mand\u001b[0m \u001b[0mlen\u001b[0m\u001b[0;34m(\u001b[0m\u001b[0magged\u001b[0m\u001b[0;34m.\u001b[0m\u001b[0mcolumns\u001b[0m\u001b[0;34m)\u001b[0m\u001b[0;34m:\u001b[0m\u001b[0;34m\u001b[0m\u001b[0;34m\u001b[0m\u001b[0m\n",
      "\u001b[0;32m/anaconda3/lib/python3.7/site-packages/pandas/core/frame.py\u001b[0m in \u001b[0;36mgroupby\u001b[0;34m(self, by, axis, level, as_index, sort, group_keys, squeeze, observed, dropna)\u001b[0m\n\u001b[1;32m   6519\u001b[0m             \u001b[0msqueeze\u001b[0m\u001b[0;34m=\u001b[0m\u001b[0msqueeze\u001b[0m\u001b[0;34m,\u001b[0m\u001b[0;34m\u001b[0m\u001b[0;34m\u001b[0m\u001b[0m\n\u001b[1;32m   6520\u001b[0m             \u001b[0mobserved\u001b[0m\u001b[0;34m=\u001b[0m\u001b[0mobserved\u001b[0m\u001b[0;34m,\u001b[0m\u001b[0;34m\u001b[0m\u001b[0;34m\u001b[0m\u001b[0m\n\u001b[0;32m-> 6521\u001b[0;31m             \u001b[0mdropna\u001b[0m\u001b[0;34m=\u001b[0m\u001b[0mdropna\u001b[0m\u001b[0;34m,\u001b[0m\u001b[0;34m\u001b[0m\u001b[0;34m\u001b[0m\u001b[0m\n\u001b[0m\u001b[1;32m   6522\u001b[0m         )\n\u001b[1;32m   6523\u001b[0m \u001b[0;34m\u001b[0m\u001b[0m\n",
      "\u001b[0;32m/anaconda3/lib/python3.7/site-packages/pandas/core/groupby/groupby.py\u001b[0m in \u001b[0;36m__init__\u001b[0;34m(self, obj, keys, axis, level, grouper, exclusions, selection, as_index, sort, group_keys, squeeze, observed, mutated, dropna)\u001b[0m\n\u001b[1;32m    531\u001b[0m                 \u001b[0mobserved\u001b[0m\u001b[0;34m=\u001b[0m\u001b[0mobserved\u001b[0m\u001b[0;34m,\u001b[0m\u001b[0;34m\u001b[0m\u001b[0;34m\u001b[0m\u001b[0m\n\u001b[1;32m    532\u001b[0m                 \u001b[0mmutated\u001b[0m\u001b[0;34m=\u001b[0m\u001b[0mself\u001b[0m\u001b[0;34m.\u001b[0m\u001b[0mmutated\u001b[0m\u001b[0;34m,\u001b[0m\u001b[0;34m\u001b[0m\u001b[0;34m\u001b[0m\u001b[0m\n\u001b[0;32m--> 533\u001b[0;31m                 \u001b[0mdropna\u001b[0m\u001b[0;34m=\u001b[0m\u001b[0mself\u001b[0m\u001b[0;34m.\u001b[0m\u001b[0mdropna\u001b[0m\u001b[0;34m,\u001b[0m\u001b[0;34m\u001b[0m\u001b[0;34m\u001b[0m\u001b[0m\n\u001b[0m\u001b[1;32m    534\u001b[0m             )\n\u001b[1;32m    535\u001b[0m \u001b[0;34m\u001b[0m\u001b[0m\n",
      "\u001b[0;32m/anaconda3/lib/python3.7/site-packages/pandas/core/groupby/grouper.py\u001b[0m in \u001b[0;36mget_grouper\u001b[0;34m(obj, key, axis, level, sort, observed, mutated, validate, dropna)\u001b[0m\n\u001b[1;32m    779\u001b[0m                 \u001b[0min_axis\u001b[0m\u001b[0;34m,\u001b[0m \u001b[0mname\u001b[0m\u001b[0;34m,\u001b[0m \u001b[0mlevel\u001b[0m\u001b[0;34m,\u001b[0m \u001b[0mgpr\u001b[0m \u001b[0;34m=\u001b[0m \u001b[0;32mFalse\u001b[0m\u001b[0;34m,\u001b[0m \u001b[0;32mNone\u001b[0m\u001b[0;34m,\u001b[0m \u001b[0mgpr\u001b[0m\u001b[0;34m,\u001b[0m \u001b[0;32mNone\u001b[0m\u001b[0;34m\u001b[0m\u001b[0;34m\u001b[0m\u001b[0m\n\u001b[1;32m    780\u001b[0m             \u001b[0;32melse\u001b[0m\u001b[0;34m:\u001b[0m\u001b[0;34m\u001b[0m\u001b[0;34m\u001b[0m\u001b[0m\n\u001b[0;32m--> 781\u001b[0;31m                 \u001b[0;32mraise\u001b[0m \u001b[0mKeyError\u001b[0m\u001b[0;34m(\u001b[0m\u001b[0mgpr\u001b[0m\u001b[0;34m)\u001b[0m\u001b[0;34m\u001b[0m\u001b[0;34m\u001b[0m\u001b[0m\n\u001b[0m\u001b[1;32m    782\u001b[0m         \u001b[0;32melif\u001b[0m \u001b[0misinstance\u001b[0m\u001b[0;34m(\u001b[0m\u001b[0mgpr\u001b[0m\u001b[0;34m,\u001b[0m \u001b[0mGrouper\u001b[0m\u001b[0;34m)\u001b[0m \u001b[0;32mand\u001b[0m \u001b[0mgpr\u001b[0m\u001b[0;34m.\u001b[0m\u001b[0mkey\u001b[0m \u001b[0;32mis\u001b[0m \u001b[0;32mnot\u001b[0m \u001b[0;32mNone\u001b[0m\u001b[0;34m:\u001b[0m\u001b[0;34m\u001b[0m\u001b[0;34m\u001b[0m\u001b[0m\n\u001b[1;32m    783\u001b[0m             \u001b[0;31m# Add key to exclusions\u001b[0m\u001b[0;34m\u001b[0m\u001b[0;34m\u001b[0m\u001b[0;34m\u001b[0m\u001b[0m\n",
      "\u001b[0;31mKeyError\u001b[0m: 'actor_id'"
     ]
    }
   ],
   "source": [
    "def money_laundering(msg):\n",
    "    \n",
    "    available = 'available' in msg\n",
    "    payment = 'payment' in msg or 'payout' in msg\n",
    "    blocking = 'blocking' in msg\n",
    "    \n",
    "    giftcard = 'gift card' in msg or 'giftcard' in msg or 'gifts card' in msg \n",
    "    if giftcard and (blocking or available or payment):\n",
    "        return 'giftcard'\n",
    "    \n",
    "    \n",
    "    gateway = 'gatewy' in msg or 'gateway' in msg or 'gatway' in msg\n",
    "    payment_form = gateway or payment or 'loader' in msg or 'merchant' in msg or 'link' in msg\n",
    "    two_d = '2d' in msg or '2-d' in msg or '2 d' in msg or '3d' in msg or '3-d' in msg or '3 d' in msg or 'e check' in msg\n",
    "    if two_d and payment_form:\n",
    "        return '2d or 3d gateway'\n",
    "    \n",
    "    \n",
    "    bank = 'bank account' in msg\n",
    "    if bank:\n",
    "        return 'bank account'\n",
    "    \n",
    "    \n",
    "    seller = 'sell' in msg or 'buy' in msg or 'trader' in msg or 'flash' in msg\n",
    "    bitcoin = 'btc' in msg\n",
    "    if bitcoin and seller:\n",
    "        return 'bitcoin'\n",
    "    \n",
    "    \n",
    "    loader = 'loader' in msg\n",
    "    card = 'mastercard' in msg or 'americanexpress' in msg or 'amex' in msg\n",
    "    if card and loader and available:\n",
    "        return 'card'\n",
    "    \n",
    "    \n",
    "    different_payments = 'chime' in msg or 'paypal' in msg or 'zelle' in msg or 'g-pay' in msg or 'apple' in msg\n",
    "    if different_payments and payment:\n",
    "        return 'other payment forms'\n",
    "    \n",
    "    if blocking and (payment or available):\n",
    "        return 'blocking available'\n",
    "    \n",
    "    return False\n",
    "\n",
    "\n",
    "df['money_laundering'] = df['message_text'].apply(money_laundering)\n",
    "temp = df[df['money_laundering'] != False]\n",
    "\n",
    "print(temp.shape)\n",
    "\n",
    "print(pd.pivot_table(temp, index=['message_text'], aggfunc=pd.Series.count).shape)\n",
    "print(pd.pivot_table(temp, index=['actor_id'], aggfunc=pd.Series.count).shape)\n"
   ]
  },
  {
   "cell_type": "code",
   "execution_count": 12,
   "metadata": {},
   "outputs": [
    {
     "name": "stdout",
     "output_type": "stream",
     "text": [
      "(5041, 18)\n",
      "(1541, 17)\n",
      "(602, 17)\n"
     ]
    }
   ],
   "source": [
    "def website_developer(msg):\n",
    "    \n",
    "    available = 'active' in msg or 'running' in msg or 'book' in msg or 'live' in msg or ' cc ' in msg or 'order more' in msg or 'direct center' in msg\n",
    "    call = 'call' in msg or 'cll' in msg\n",
    "    \n",
    "    call_or_available = call or available\n",
    "    \n",
    "    google_ads = ('adword' in msg or 'ppc' in msg) and ('campaign' in msg or 'account' in msg or call or available)\n",
    "    if google_ads:\n",
    "        return 'google ads'\n",
    "    \n",
    "    \n",
    "    if 'amazon' in msg and call_or_available:\n",
    "        return 'amazon'\n",
    "    \n",
    "\n",
    "    if 'ios' in msg and call_or_available:\n",
    "        return 'ios'\n",
    "    \n",
    "    \n",
    "    if 'paypal' in msg and call_or_available:\n",
    "        return 'paypal'\n",
    "    \n",
    "   \n",
    "    if 'chime' in msg and call_or_available:\n",
    "        return 'chime'\n",
    "    \n",
    "   \n",
    "    if ('cashapp' in msg or 'cash app' in msg) and call_or_available:\n",
    "        return 'cashapp'\n",
    "    \n",
    "    \n",
    "    if ('quickbook' in msg) and call_or_available:\n",
    "        return 'quickbook'\n",
    "    \n",
    "    \n",
    "    if 'printer' in msg and call_or_available:\n",
    "        return 'printer'\n",
    "    \n",
    "   \n",
    "    if 'popup' in msg and call_or_available:\n",
    "        return 'popup'\n",
    "    \n",
    "    \n",
    "    if 'ebay' in msg and call_or_available:\n",
    "        return 'ebay'\n",
    "    \n",
    "    \n",
    "    if 'delta' in msg and call_or_available:\n",
    "        return 'delta'\n",
    "    \n",
    "    \n",
    "    if 'bsod' in msg and call_or_available:\n",
    "        return 'bsod'\n",
    "    \n",
    "    if 'refund' in msg and call_or_available:\n",
    "        return 'refund'\n",
    "    \n",
    "    \n",
    "    if ' cc details ' in msg or 'indian cc' in msg or ' cc data ' in msg:\n",
    "        return 'query for call center'\n",
    "    \n",
    "    \n",
    "    if 'website traffic available' in msg or (call and available):\n",
    "        return 'calls available'\n",
    "    \n",
    "    return False\n",
    "\n",
    "df['website_developer'] = df['message_text'].apply(website_developer)\n",
    "temp = df[df['website_developer'] != False]\n",
    "print(temp.shape)\n",
    "\n",
    "\n",
    "print(pd.pivot_table(temp, index=['message_text'], aggfunc=pd.Series.count).shape)\n",
    "print(pd.pivot_table(temp, index=['actor_id'], aggfunc=pd.Series.count).shape)"
   ]
  },
  {
   "cell_type": "code",
   "execution_count": 13,
   "metadata": {},
   "outputs": [
    {
     "name": "stdout",
     "output_type": "stream",
     "text": [
      "(1409, 18)\n",
      "(552, 17)\n",
      "(264, 17)\n"
     ]
    }
   ],
   "source": [
    "def call_center(msg):\n",
    "    looking = 'looking' in msg or 'hiring' in msg or 'required' in msg or 'need' in msg\n",
    "    agent = 'agent' in msg or 'fresher' in msg or 'tech sales' in msg or 'technical sales' in msg\n",
    "    \n",
    "    if agent and looking:\n",
    "        return 'need agents'\n",
    "    \n",
    "    return False\n",
    "\n",
    "df['call_center'] = df['message_text'].apply(call_center)\n",
    "temp = df[df['call_center'] != False]\n",
    "print(temp.shape)\n",
    "\n",
    "print(pd.pivot_table(temp, index=['message_text'], aggfunc=pd.Series.count).shape)\n",
    "print(pd.pivot_table(temp, index=['actor_id'], aggfunc=pd.Series.count).shape)"
   ]
  },
  {
   "cell_type": "code",
   "execution_count": 15,
   "metadata": {},
   "outputs": [
    {
     "name": "stdout",
     "output_type": "stream",
     "text": [
      "(2977, 18)\n",
      "(981, 17)\n",
      "(367, 17)\n"
     ]
    }
   ],
   "source": [
    "def victim_data(msg):\n",
    "    lead = 'lead' in msg or 'data' in msg\n",
    "    email = 'email' in msg and lead\n",
    "    refund = 'refund' in msg and lead\n",
    "    ivr = 'ivr' in msg and lead\n",
    "    fresh = 'fresh' in msg and lead\n",
    "    data = 'data available' in msg\n",
    "    \n",
    "    smtp = 'smtp' in msg\n",
    "    bulk_sms = 'bulk sms' in msg\n",
    "    blasting = 'email' in msg and 'blast' in msg\n",
    "\n",
    "    if email or refund or ivr or fresh or data:\n",
    "        return 'leads'\n",
    "    \n",
    "    if blasting or smtp or bulk_sms:\n",
    "        return 'blasting'\n",
    "    return False\n",
    "\n",
    "df['victim_data'] = df['message_text'].apply(victim_data)\n",
    "temp = df[df['victim_data'] != False]\n",
    "\n",
    "print(temp.shape)\n",
    "\n",
    "print(pd.pivot_table(temp, index=['message_text'], aggfunc=pd.Series.count).shape)\n",
    "print(pd.pivot_table(temp, index=['actor_id'], aggfunc=pd.Series.count).shape)"
   ]
  },
  {
   "cell_type": "code",
   "execution_count": 16,
   "metadata": {},
   "outputs": [
    {
     "name": "stdout",
     "output_type": "stream",
     "text": [
      "(1324, 18)\n",
      "(295, 17)\n",
      "(125, 17)\n"
     ]
    }
   ],
   "source": [
    "def toll_free_number(msg):\n",
    "    available = 'available' in msg or 'avail' in msg or 'providing' in msg or 'get unlimited call' in msg\n",
    "    toll_free_number = ('tfn' in msg or 'toll free' in msg or 'toll-free' in msg) and available\n",
    "    did = 'did' in msg and available\n",
    "    \n",
    "    if toll_free_number or did:\n",
    "        return True\n",
    "    return False\n",
    "\n",
    "df['toll_free_number'] = df['message_text'].apply(toll_free_number)\n",
    "temp = df[df['toll_free_number'] != False]\n",
    "\n",
    "print(temp.shape)\n",
    "\n",
    "print(pd.pivot_table(temp, index=['message_text'], aggfunc=pd.Series.count).shape)\n",
    "print(pd.pivot_table(temp, index=['actor_id'], aggfunc=pd.Series.count).shape)"
   ]
  },
  {
   "cell_type": "code",
   "execution_count": 18,
   "metadata": {},
   "outputs": [
    {
     "name": "stdout",
     "output_type": "stream",
     "text": [
      "(331, 18)\n",
      "(108, 17)\n",
      "(70, 17)\n"
     ]
    }
   ],
   "source": [
    "def seo(msg):\n",
    "    if ' seo' in msg or 'social media promotion' in msg or 'social media service' in msg or 'digital maketing' in msg:\n",
    "        return 'social media promotion'\n",
    "    return False\n",
    "    \n",
    "df['social_media_promotion'] = df['message_text'].apply(seo)\n",
    "temp = df[df['social_media_promotion'] != False]\n",
    "\n",
    "print(temp.shape)\n",
    "\n",
    "print(pd.pivot_table(temp, index=['message_text'], aggfunc=pd.Series.count).shape)\n",
    "print(pd.pivot_table(temp, index=['actor_id'], aggfunc=pd.Series.count).shape)"
   ]
  },
  {
   "cell_type": "code",
   "execution_count": 19,
   "metadata": {},
   "outputs": [
    {
     "name": "stdout",
     "output_type": "stream",
     "text": [
      "(7220, 18)\n",
      "(3438, 17)\n",
      "(1451, 17)\n"
     ]
    }
   ],
   "source": [
    "def other(msg):\n",
    "    logic = empty_post(msg) or money_laundering(msg) or website_developer(msg) or call_center(msg) or victim_data(msg) or seo(msg) or toll_free_number(msg)\n",
    "        \n",
    "    if not logic:\n",
    "        return True\n",
    "    return False\n",
    "    \n",
    "\n",
    "df['other'] = df['message_text'].apply(other)\n",
    "temp = df[df['other'] == True]\n",
    "\n",
    "print(temp.shape)\n",
    "print(pd.pivot_table(temp, index=['message_text'], aggfunc=pd.Series.count).shape)\n",
    "print(pd.pivot_table(temp, index=['actor_id'], aggfunc=pd.Series.count).shape)"
   ]
  },
  {
   "cell_type": "code",
   "execution_count": 20,
   "metadata": {},
   "outputs": [],
   "source": [
    "df.to_csv('labelled_posts.tsv', sep='\\t', header=True, index=False)"
   ]
  },
  {
   "cell_type": "code",
   "execution_count": null,
   "metadata": {},
   "outputs": [],
   "source": []
  }
 ],
 "metadata": {
  "kernelspec": {
   "display_name": "Python 3",
   "language": "python",
   "name": "python3"
  },
  "language_info": {
   "codemirror_mode": {
    "name": "ipython",
    "version": 3
   },
   "file_extension": ".py",
   "mimetype": "text/x-python",
   "name": "python",
   "nbconvert_exporter": "python",
   "pygments_lexer": "ipython3",
   "version": "3.7.2"
  }
 },
 "nbformat": 4,
 "nbformat_minor": 2
}

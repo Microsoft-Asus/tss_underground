{
 "cells": [
  {
   "cell_type": "code",
   "execution_count": 1,
   "metadata": {},
   "outputs": [
    {
     "name": "stdout",
     "output_type": "stream",
     "text": [
      "Social media marketing 20:\n",
      "Tech Business group:\n",
      "Social media marketing 3:\n",
      "Rock Bikers🥏:\n",
      "Ivr leads available:\n",
      "Lost premium Support:\n",
      "👩‍🎤hamari adhuri kahani:\n",
      "10. Ap group Rahul Singh☕:\n",
      "Australia Bank Loading :\n",
      "Corona worriors, 💂🏻‍♂️:\n",
      "Cards Blocking & Refund:\n",
      "blackscreen remote softwa:\n",
      "Website vala:\n",
      "(43307, 4)\n"
     ]
    },
    {
     "data": {
      "text/html": [
       "<div>\n",
       "<style scoped>\n",
       "    .dataframe tbody tr th:only-of-type {\n",
       "        vertical-align: middle;\n",
       "    }\n",
       "\n",
       "    .dataframe tbody tr th {\n",
       "        vertical-align: top;\n",
       "    }\n",
       "\n",
       "    .dataframe thead th {\n",
       "        text-align: right;\n",
       "    }\n",
       "</style>\n",
       "<table border=\"1\" class=\"dataframe\">\n",
       "  <thead>\n",
       "    <tr style=\"text-align: right;\">\n",
       "      <th></th>\n",
       "      <th>date</th>\n",
       "      <th>actor_id</th>\n",
       "      <th>message_text</th>\n",
       "      <th>chat group name</th>\n",
       "    </tr>\n",
       "  </thead>\n",
       "  <tbody>\n",
       "    <tr>\n",
       "      <th>0</th>\n",
       "      <td>11/6/19, 11:31:28 AM]</td>\n",
       "      <td>Social media marketing 20:</td>\n",
       "      <td>‎Messages and calls are end-to-end encrypted. ...</td>\n",
       "      <td>chat_12.txt</td>\n",
       "    </tr>\n",
       "    <tr>\n",
       "      <th>1</th>\n",
       "      <td>11/6/19, 11:31:28 AM]</td>\n",
       "      <td>‎‪+91 98907 76732‬ created this group\\n[11/8/1...</td>\n",
       "      <td>*🥳Next week advance prediction video now avail...</td>\n",
       "      <td>chat_12.txt</td>\n",
       "    </tr>\n",
       "    <tr>\n",
       "      <th>2</th>\n",
       "      <td>11/9/19, 10:55:40 AM]</td>\n",
       "      <td>‪+234 701 028 3792‬:</td>\n",
       "      <td>```Is there any loader in this groups in need ...</td>\n",
       "      <td>chat_12.txt</td>\n",
       "    </tr>\n",
       "    <tr>\n",
       "      <th>3</th>\n",
       "      <td>11/9/19, 11:53:46 AM]</td>\n",
       "      <td>‪+91 90413 82638‬:</td>\n",
       "      <td>*ZEFTRON SOLUTIONS*\\n\\n *INSTANT PAYOUT*\\n\\n *...</td>\n",
       "      <td>chat_12.txt</td>\n",
       "    </tr>\n",
       "    <tr>\n",
       "      <th>4</th>\n",
       "      <td>11/9/19, 12:01:33 PM]</td>\n",
       "      <td>‪+255 745 032 469‬:</td>\n",
       "      <td>‎image omitted\\n[</td>\n",
       "      <td>chat_12.txt</td>\n",
       "    </tr>\n",
       "  </tbody>\n",
       "</table>\n",
       "</div>"
      ],
      "text/plain": [
       "                    date                                           actor_id  \\\n",
       "0  11/6/19, 11:31:28 AM]                         Social media marketing 20:   \n",
       "1  11/6/19, 11:31:28 AM]  ‎‪+91 98907 76732‬ created this group\\n[11/8/1...   \n",
       "2  11/9/19, 10:55:40 AM]                               ‪+234 701 028 3792‬:   \n",
       "3  11/9/19, 11:53:46 AM]                                 ‪+91 90413 82638‬:   \n",
       "4  11/9/19, 12:01:33 PM]                                ‪+255 745 032 469‬:   \n",
       "\n",
       "                                        message_text chat group name  \n",
       "0  ‎Messages and calls are end-to-end encrypted. ...     chat_12.txt  \n",
       "1  *🥳Next week advance prediction video now avail...     chat_12.txt  \n",
       "2  ```Is there any loader in this groups in need ...     chat_12.txt  \n",
       "3  *ZEFTRON SOLUTIONS*\\n\\n *INSTANT PAYOUT*\\n\\n *...     chat_12.txt  \n",
       "4                                  ‎image omitted\\n[     chat_12.txt  "
      ]
     },
     "execution_count": 1,
     "metadata": {},
     "output_type": "execute_result"
    }
   ],
   "source": [
    "import sys\n",
    "import os\n",
    "import pandas as pd\n",
    "import numpy as np\n",
    "import re\n",
    "\n",
    "\n",
    "def read_file(filename):\n",
    "    file = open(filename, mode='r', encoding='utf-8')\n",
    "    data = file.read()\n",
    "    file.close()   \n",
    "    return data\n",
    "\n",
    "def make_dataframe(data):\n",
    "    messages = re.findall('(\\d+/\\d+/\\d+, \\d+:\\d+:\\d+ [A-Z]*]) (.*?:) (.*?\\[)', data, flags=re.DOTALL)\n",
    "    temp_df = pd.DataFrame(messages, columns=['date', 'actor_id', 'message_text'])\n",
    "    return temp_df\n",
    "\n",
    "\n",
    "folder_path = './Chats'\n",
    "df = pd.DataFrame(columns=['date', 'actor_id', 'message_text', 'chat group name'])\n",
    "\n",
    "for f in os.listdir(folder_path):\n",
    "    f_path = folder_path + '/' + f\n",
    "    data = read_file(f_path)\n",
    "    temp_df = make_dataframe(data)\n",
    "    temp_df['chat group name'] = f\n",
    "    print(temp_df['actor_id'][0])\n",
    "    df = df.append(temp_df)\n",
    "    \n",
    "print(df.shape)\n",
    "df.head()"
   ]
  },
  {
   "cell_type": "code",
   "execution_count": 2,
   "metadata": {},
   "outputs": [],
   "source": [
    "df['message_text'] = df['message_text'].map(lambda x: x.lower())\n",
    "df['message_text'] = df['message_text'].map(lambda x: x.replace('\\n', ' '))\n",
    "df['message_text'] = df['message_text'].map(lambda x: x.replace('\\\\', ' '))"
   ]
  },
  {
   "cell_type": "code",
   "execution_count": 3,
   "metadata": {},
   "outputs": [
    {
     "name": "stdout",
     "output_type": "stream",
     "text": [
      "(13538, 3)\n",
      "(3158, 3)\n"
     ]
    }
   ],
   "source": [
    "print(pd.pivot_table(df, index=['message_text'], aggfunc=pd.Series.count).shape)\n",
    "print(pd.pivot_table(df, index=['actor_id'], aggfunc=pd.Series.count).shape)"
   ]
  },
  {
   "cell_type": "code",
   "execution_count": 4,
   "metadata": {},
   "outputs": [
    {
     "data": {
      "text/plain": [
       "(23028, 5)"
      ]
     },
     "execution_count": 4,
     "metadata": {},
     "output_type": "execute_result"
    }
   ],
   "source": [
    "import re\n",
    "import phonenumbers\n",
    "\n",
    "def has_numbers(input_string):\n",
    "    numbers = re.findall('(\\d)', input_string)\n",
    "    if len(numbers) == 0:\n",
    "        return False\n",
    "    \n",
    "    if len(numbers) == 1: \n",
    "        if phonenumbers.PhoneNumberMatcher(input_string, 'US'):\n",
    "            return False\n",
    "    \n",
    "    return True\n",
    "    \n",
    "\n",
    "df['has_digit'] = df['message_text'].apply(has_numbers) \n",
    "df[df['has_digit'] == True].shape"
   ]
  },
  {
   "cell_type": "code",
   "execution_count": 5,
   "metadata": {},
   "outputs": [
    {
     "data": {
      "text/plain": [
       "(0, 6)"
      ]
     },
     "execution_count": 5,
     "metadata": {},
     "output_type": "execute_result"
    }
   ],
   "source": [
    "def empty_post(msg):\n",
    "    if msg == 'na':\n",
    "         return True\n",
    "    return False\n",
    "\n",
    "df['empty_post'] = df['message_text'].apply(empty_post)\n",
    "df[df['empty_post'] == True].shape"
   ]
  },
  {
   "cell_type": "code",
   "execution_count": 6,
   "metadata": {},
   "outputs": [
    {
     "name": "stdout",
     "output_type": "stream",
     "text": [
      "(8887, 7)\n",
      "(2138, 6)\n",
      "(787, 6)\n"
     ]
    }
   ],
   "source": [
    "def money_laundering(msg):\n",
    "    \n",
    "    available = 'available' in msg\n",
    "    payment = 'payment' in msg or 'payout' in msg\n",
    "    blocking = 'blocking' in msg\n",
    "    \n",
    "    giftcard = 'gift card' in msg or 'giftcard' in msg or 'gifts card' in msg \n",
    "    if giftcard and (blocking or available or payment):\n",
    "        return 'giftcard'\n",
    "    \n",
    "    \n",
    "    gateway = 'gatewy' in msg or 'gateway' in msg or 'gatway' in msg\n",
    "    payment_form = gateway or payment or 'loader' in msg or 'merchant' in msg or 'link' in msg\n",
    "    two_d = '2d' in msg or '2-d' in msg or '2 d' in msg or '3d' in msg or '3-d' in msg or '3 d' in msg or 'e check' in msg\n",
    "    if two_d and payment_form:\n",
    "        return '2d or 3d gateway'\n",
    "    \n",
    "    \n",
    "    bank = 'bank account' in msg\n",
    "    if bank:\n",
    "        return 'bank account'\n",
    "    \n",
    "    \n",
    "    seller = 'sell' in msg or 'buy' in msg or 'trader' in msg or 'flash' in msg\n",
    "    bitcoin = 'btc' in msg\n",
    "    if bitcoin and seller:\n",
    "        return 'bitcoin'\n",
    "    \n",
    "    \n",
    "    loader = 'loader' in msg\n",
    "    card = 'mastercard' in msg or 'americanexpress' in msg or 'amex' in msg\n",
    "    if card and loader and available:\n",
    "        return 'card'\n",
    "    \n",
    "    \n",
    "    different_payments = 'chime' in msg or 'paypal' in msg or 'zelle' in msg or 'g-pay' in msg or 'apple' in msg\n",
    "    if different_payments and payment:\n",
    "        return 'other payment forms'\n",
    "    \n",
    "    if blocking and (payment or available):\n",
    "        return 'blocking available'\n",
    "    \n",
    "    return False\n",
    "\n",
    "\n",
    "df['money_laundering'] = df['message_text'].apply(money_laundering)\n",
    "temp = df[df['money_laundering'] != False]\n",
    "\n",
    "print(temp.shape)\n",
    "\n",
    "print(pd.pivot_table(temp, index=['message_text'], aggfunc=pd.Series.count).shape)\n",
    "print(pd.pivot_table(temp, index=['actor_id'], aggfunc=pd.Series.count).shape)\n"
   ]
  },
  {
   "cell_type": "code",
   "execution_count": 7,
   "metadata": {},
   "outputs": [
    {
     "name": "stdout",
     "output_type": "stream",
     "text": [
      "(9444, 8)\n",
      "(2826, 7)\n",
      "(815, 7)\n"
     ]
    }
   ],
   "source": [
    "def website_developer(msg):\n",
    "    \n",
    "    available = 'avail' in msg or 'active' in msg or 'running' in msg or 'book' in msg or 'live' in msg or ' cc ' in msg or 'order more' in msg or 'direct center' in msg\n",
    "    call = 'call' in msg or 'cll' in msg\n",
    "    \n",
    "    call_or_available = call and available\n",
    "    \n",
    "    google_ads = ('adword' in msg or 'ppc' in msg) and ('campaign' in msg or 'account' in msg or call or available)\n",
    "    if google_ads:\n",
    "        return 'google ads'\n",
    "    \n",
    "    \n",
    "    if 'amazon' in msg and call_or_available:\n",
    "        return 'amazon'\n",
    "    \n",
    "\n",
    "    if 'ios' in msg and call_or_available:\n",
    "        return 'ios'\n",
    "    \n",
    "    \n",
    "    if 'paypal' in msg and call_or_available:\n",
    "        return 'paypal'\n",
    "    \n",
    "   \n",
    "    if 'chime' in msg and call_or_available:\n",
    "        return 'chime'\n",
    "    \n",
    "   \n",
    "    if ('cashapp' in msg or 'cash app' in msg) and call_or_available:\n",
    "        return 'cashapp'\n",
    "    \n",
    "    \n",
    "    if ('quickbook' in msg) and call_or_available:\n",
    "        return 'quickbook'\n",
    "    \n",
    "    \n",
    "    if 'printer' in msg and call_or_available:\n",
    "        return 'printer'\n",
    "    \n",
    "   \n",
    "    if 'popup' in msg and call_or_available:\n",
    "        return 'popup'\n",
    "    \n",
    "    \n",
    "    if 'ebay' in msg and call_or_available:\n",
    "        return 'ebay'\n",
    "    \n",
    "    \n",
    "    if 'delta' in msg and call_or_available:\n",
    "        return 'delta'\n",
    "    \n",
    "    \n",
    "    if 'bsod' in msg and call_or_available:\n",
    "        return 'bsod'\n",
    "    \n",
    "    if 'refund' in msg and call_or_available:\n",
    "        return 'refund'\n",
    "    \n",
    "    \n",
    "    if ' cc details ' in msg or 'indian cc' in msg or ' cc data ' in msg:\n",
    "        return 'query for call center'\n",
    "    \n",
    "    \n",
    "    if 'website traffic available' in msg or (call and available):\n",
    "        return 'calls available'\n",
    "    \n",
    "    return False\n",
    "\n",
    "df['website_developer'] = df['message_text'].apply(website_developer)\n",
    "temp = df[df['website_developer'] != False]\n",
    "print(temp.shape)\n",
    "\n",
    "\n",
    "print(pd.pivot_table(temp, index=['message_text'], aggfunc=pd.Series.count).shape)\n",
    "print(pd.pivot_table(temp, index=['actor_id'], aggfunc=pd.Series.count).shape)"
   ]
  },
  {
   "cell_type": "code",
   "execution_count": 8,
   "metadata": {},
   "outputs": [
    {
     "name": "stdout",
     "output_type": "stream",
     "text": [
      "(161, 9)\n",
      "(104, 8)\n",
      "(57, 8)\n"
     ]
    }
   ],
   "source": [
    "def call_center(msg):\n",
    "    looking = 'looking' in msg or 'hiring' in msg or 'required' in msg or 'need' in msg\n",
    "    agent = 'agent' in msg #or 'tech sale' in msg or 'technical sale' in msg\n",
    "    \n",
    "    if agent and looking:\n",
    "        return 'need agents'\n",
    "    \n",
    "    return False\n",
    "\n",
    "df['call_center'] = df['message_text'].apply(call_center)\n",
    "temp = df[df['call_center'] != False]\n",
    "print(temp.shape)\n",
    "\n",
    "print(pd.pivot_table(temp, index=['message_text'], aggfunc=pd.Series.count).shape)\n",
    "print(pd.pivot_table(temp, index=['actor_id'], aggfunc=pd.Series.count).shape)"
   ]
  },
  {
   "cell_type": "code",
   "execution_count": 9,
   "metadata": {},
   "outputs": [
    {
     "name": "stdout",
     "output_type": "stream",
     "text": [
      "(5224, 10)\n",
      "(1153, 9)\n",
      "(407, 9)\n"
     ]
    }
   ],
   "source": [
    "def victim_data(msg):\n",
    "    lead = 'lead' in msg or 'data' in msg\n",
    "    email = 'email' in msg and lead\n",
    "    refund = 'refund' in msg and lead\n",
    "    ivr = 'ivr' in msg and lead\n",
    "    fresh = 'fresh' in msg and lead\n",
    "    data = 'data available' in msg\n",
    "    \n",
    "    smtp = 'smtp' in msg\n",
    "    bulk_sms = 'bulk sms' in msg\n",
    "    blasting = 'email' in msg and 'blast' in msg\n",
    "\n",
    "    if email or refund or ivr or fresh or data:\n",
    "        return 'leads'\n",
    "    \n",
    "    if blasting or smtp or bulk_sms:\n",
    "        return 'blasting'\n",
    "    return False\n",
    "\n",
    "df['victim_data'] = df['message_text'].apply(victim_data)\n",
    "temp = df[df['victim_data'] != False]\n",
    "\n",
    "print(temp.shape)\n",
    "\n",
    "print(pd.pivot_table(temp, index=['message_text'], aggfunc=pd.Series.count).shape)\n",
    "print(pd.pivot_table(temp, index=['actor_id'], aggfunc=pd.Series.count).shape)"
   ]
  },
  {
   "cell_type": "code",
   "execution_count": 10,
   "metadata": {},
   "outputs": [
    {
     "name": "stdout",
     "output_type": "stream",
     "text": [
      "(3294, 11)\n",
      "(556, 10)\n",
      "(250, 10)\n"
     ]
    }
   ],
   "source": [
    "def toll_free_number(msg):\n",
    "    available = 'available' in msg or 'avail' in msg or 'providing' in msg or 'get unlimited call' in msg\n",
    "    toll_free_number = ('tfn' in msg or 'toll free' in msg or 'toll-free' in msg) and available\n",
    "    did = 'did' in msg and available\n",
    "    \n",
    "    if toll_free_number or did:\n",
    "        return True\n",
    "    return False\n",
    "\n",
    "df['toll_free_number'] = df['message_text'].apply(toll_free_number)\n",
    "temp = df[df['toll_free_number'] != False]\n",
    "\n",
    "print(temp.shape)\n",
    "\n",
    "print(pd.pivot_table(temp, index=['message_text'], aggfunc=pd.Series.count).shape)\n",
    "print(pd.pivot_table(temp, index=['actor_id'], aggfunc=pd.Series.count).shape)"
   ]
  },
  {
   "cell_type": "code",
   "execution_count": 11,
   "metadata": {},
   "outputs": [
    {
     "name": "stdout",
     "output_type": "stream",
     "text": [
      "(304, 12)\n",
      "(141, 11)\n",
      "(57, 11)\n"
     ]
    }
   ],
   "source": [
    "def seo(msg):\n",
    "    if ' seo' in msg or 'social media promotion' in msg or 'social media service' in msg or 'digital maketing' in msg:\n",
    "        return 'social media promotion'\n",
    "    return False\n",
    "    \n",
    "df['social_media_promotion'] = df['message_text'].apply(seo)\n",
    "temp = df[df['social_media_promotion'] != False]\n",
    "\n",
    "print(temp.shape)\n",
    "\n",
    "print(pd.pivot_table(temp, index=['message_text'], aggfunc=pd.Series.count).shape)\n",
    "print(pd.pivot_table(temp, index=['actor_id'], aggfunc=pd.Series.count).shape)"
   ]
  },
  {
   "cell_type": "code",
   "execution_count": 12,
   "metadata": {},
   "outputs": [
    {
     "name": "stdout",
     "output_type": "stream",
     "text": [
      "(21933, 13)\n",
      "(7987, 1)\n",
      "(2043, 12)\n"
     ]
    }
   ],
   "source": [
    "def other(msg):\n",
    "    logic = empty_post(msg) or money_laundering(msg) or website_developer(msg) or call_center(msg) or victim_data(msg) or seo(msg) or toll_free_number(msg)\n",
    "        \n",
    "    if not logic:\n",
    "        return True\n",
    "    return False\n",
    "    \n",
    "\n",
    "df['other'] = df['message_text'].apply(other)\n",
    "temp = df[df['other'] == True]\n",
    "\n",
    "print(temp.shape)\n",
    "\n",
    "others_text = pd.DataFrame(pd.pivot_table(temp, index=['message_text'], aggfunc=pd.Series.count).index)\n",
    "others_text.to_csv('others.tsv', sep='\\t', header=True, index=False)\n",
    "\n",
    "print(others_text.shape)\n",
    "print(pd.pivot_table(temp, index=['actor_id'], aggfunc=pd.Series.count).shape)"
   ]
  },
  {
   "cell_type": "code",
   "execution_count": 13,
   "metadata": {},
   "outputs": [
    {
     "data": {
      "text/html": [
       "<div>\n",
       "<style scoped>\n",
       "    .dataframe tbody tr th:only-of-type {\n",
       "        vertical-align: middle;\n",
       "    }\n",
       "\n",
       "    .dataframe tbody tr th {\n",
       "        vertical-align: top;\n",
       "    }\n",
       "\n",
       "    .dataframe thead th {\n",
       "        text-align: right;\n",
       "    }\n",
       "</style>\n",
       "<table border=\"1\" class=\"dataframe\">\n",
       "  <thead>\n",
       "    <tr style=\"text-align: right;\">\n",
       "      <th></th>\n",
       "      <th>date</th>\n",
       "      <th>actor_id</th>\n",
       "      <th>message_text</th>\n",
       "      <th>chat group name</th>\n",
       "      <th>has_digit</th>\n",
       "      <th>empty_post</th>\n",
       "      <th>money_laundering</th>\n",
       "      <th>website_developer</th>\n",
       "      <th>call_center</th>\n",
       "      <th>victim_data</th>\n",
       "      <th>toll_free_number</th>\n",
       "      <th>social_media_promotion</th>\n",
       "      <th>other</th>\n",
       "    </tr>\n",
       "  </thead>\n",
       "  <tbody>\n",
       "    <tr>\n",
       "      <th>0</th>\n",
       "      <td>11/6/19, 11:31:28 AM]</td>\n",
       "      <td>Social media marketing 20:</td>\n",
       "      <td>‎messages and calls are end-to-end encrypted. ...</td>\n",
       "      <td>chat_12.txt</td>\n",
       "      <td>False</td>\n",
       "      <td>False</td>\n",
       "      <td>False</td>\n",
       "      <td>False</td>\n",
       "      <td>False</td>\n",
       "      <td>False</td>\n",
       "      <td>False</td>\n",
       "      <td>False</td>\n",
       "      <td>True</td>\n",
       "    </tr>\n",
       "    <tr>\n",
       "      <th>1</th>\n",
       "      <td>11/6/19, 11:31:28 AM]</td>\n",
       "      <td>‎‪+91 98907 76732‬ created this group\\n[11/8/1...</td>\n",
       "      <td>*🥳next week advance prediction video now avail...</td>\n",
       "      <td>chat_12.txt</td>\n",
       "      <td>True</td>\n",
       "      <td>False</td>\n",
       "      <td>False</td>\n",
       "      <td>False</td>\n",
       "      <td>False</td>\n",
       "      <td>False</td>\n",
       "      <td>False</td>\n",
       "      <td>False</td>\n",
       "      <td>True</td>\n",
       "    </tr>\n",
       "    <tr>\n",
       "      <th>2</th>\n",
       "      <td>11/9/19, 10:55:40 AM]</td>\n",
       "      <td>‪+234 701 028 3792‬:</td>\n",
       "      <td>```is there any loader in this groups in need ...</td>\n",
       "      <td>chat_12.txt</td>\n",
       "      <td>False</td>\n",
       "      <td>False</td>\n",
       "      <td>False</td>\n",
       "      <td>False</td>\n",
       "      <td>False</td>\n",
       "      <td>False</td>\n",
       "      <td>False</td>\n",
       "      <td>False</td>\n",
       "      <td>True</td>\n",
       "    </tr>\n",
       "    <tr>\n",
       "      <th>3</th>\n",
       "      <td>11/9/19, 11:53:46 AM]</td>\n",
       "      <td>‪+91 90413 82638‬:</td>\n",
       "      <td>*zeftron solutions*   *instant payout*   *most...</td>\n",
       "      <td>chat_12.txt</td>\n",
       "      <td>True</td>\n",
       "      <td>False</td>\n",
       "      <td>giftcard</td>\n",
       "      <td>amazon</td>\n",
       "      <td>False</td>\n",
       "      <td>False</td>\n",
       "      <td>False</td>\n",
       "      <td>False</td>\n",
       "      <td>False</td>\n",
       "    </tr>\n",
       "    <tr>\n",
       "      <th>4</th>\n",
       "      <td>11/9/19, 12:01:33 PM]</td>\n",
       "      <td>‪+255 745 032 469‬:</td>\n",
       "      <td>‎image omitted [</td>\n",
       "      <td>chat_12.txt</td>\n",
       "      <td>False</td>\n",
       "      <td>False</td>\n",
       "      <td>False</td>\n",
       "      <td>False</td>\n",
       "      <td>False</td>\n",
       "      <td>False</td>\n",
       "      <td>False</td>\n",
       "      <td>False</td>\n",
       "      <td>True</td>\n",
       "    </tr>\n",
       "  </tbody>\n",
       "</table>\n",
       "</div>"
      ],
      "text/plain": [
       "                    date                                           actor_id  \\\n",
       "0  11/6/19, 11:31:28 AM]                         Social media marketing 20:   \n",
       "1  11/6/19, 11:31:28 AM]  ‎‪+91 98907 76732‬ created this group\\n[11/8/1...   \n",
       "2  11/9/19, 10:55:40 AM]                               ‪+234 701 028 3792‬:   \n",
       "3  11/9/19, 11:53:46 AM]                                 ‪+91 90413 82638‬:   \n",
       "4  11/9/19, 12:01:33 PM]                                ‪+255 745 032 469‬:   \n",
       "\n",
       "                                        message_text chat group name  \\\n",
       "0  ‎messages and calls are end-to-end encrypted. ...     chat_12.txt   \n",
       "1  *🥳next week advance prediction video now avail...     chat_12.txt   \n",
       "2  ```is there any loader in this groups in need ...     chat_12.txt   \n",
       "3  *zeftron solutions*   *instant payout*   *most...     chat_12.txt   \n",
       "4                                   ‎image omitted [     chat_12.txt   \n",
       "\n",
       "   has_digit  empty_post money_laundering website_developer call_center  \\\n",
       "0      False       False            False             False       False   \n",
       "1       True       False            False             False       False   \n",
       "2      False       False            False             False       False   \n",
       "3       True       False         giftcard            amazon       False   \n",
       "4      False       False            False             False       False   \n",
       "\n",
       "  victim_data  toll_free_number social_media_promotion  other  \n",
       "0       False             False                  False   True  \n",
       "1       False             False                  False   True  \n",
       "2       False             False                  False   True  \n",
       "3       False             False                  False  False  \n",
       "4       False             False                  False   True  "
      ]
     },
     "execution_count": 13,
     "metadata": {},
     "output_type": "execute_result"
    }
   ],
   "source": [
    "df.head()"
   ]
  },
  {
   "cell_type": "code",
   "execution_count": 14,
   "metadata": {},
   "outputs": [],
   "source": [
    "df.to_csv('labelled_posts.tsv', sep='\\t', header=True, index=False)"
   ]
  },
  {
   "cell_type": "code",
   "execution_count": null,
   "metadata": {},
   "outputs": [],
   "source": []
  }
 ],
 "metadata": {
  "kernelspec": {
   "display_name": "Python 3",
   "language": "python",
   "name": "python3"
  },
  "language_info": {
   "codemirror_mode": {
    "name": "ipython",
    "version": 3
   },
   "file_extension": ".py",
   "mimetype": "text/x-python",
   "name": "python",
   "nbconvert_exporter": "python",
   "pygments_lexer": "ipython3",
   "version": "3.7.2"
  }
 },
 "nbformat": 4,
 "nbformat_minor": 2
}

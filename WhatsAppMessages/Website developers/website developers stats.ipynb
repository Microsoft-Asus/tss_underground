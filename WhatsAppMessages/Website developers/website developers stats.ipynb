{
 "cells": [
  {
   "cell_type": "code",
   "execution_count": 1,
   "metadata": {},
   "outputs": [
    {
     "name": "stdout",
     "output_type": "stream",
     "text": [
      "(43307, 13)\n"
     ]
    }
   ],
   "source": [
    "import pandas as pd\n",
    "import numpy as np\n",
    "\n",
    "#pd.set_option('display.max_colwidth', None)\n",
    "pd.set_option('display.max_colwidth', 50)\n",
    "\n",
    "df = pd.read_csv('../labelled_posts.tsv', sep='\\t', header=0)\n",
    "print(df.shape)\n",
    "#df.head()"
   ]
  },
  {
   "cell_type": "code",
   "execution_count": 2,
   "metadata": {},
   "outputs": [
    {
     "name": "stdout",
     "output_type": "stream",
     "text": [
      "(9444, 13)\n",
      "(2826, 1)\n"
     ]
    }
   ],
   "source": [
    "website_developer = df[df['website_developer'] != 'False']\n",
    "print(website_developer.shape)\n",
    "\n",
    "temp = pd.DataFrame(pd.pivot_table(website_developer, index=['message_text'], aggfunc=pd.Series.count).index)\n",
    "print(temp.shape)"
   ]
  },
  {
   "cell_type": "code",
   "execution_count": 3,
   "metadata": {},
   "outputs": [],
   "source": [
    "def contain_keyword(keyword):\n",
    "    temp_df = pd.DataFrame()\n",
    "    \n",
    "    temp_df['message_text'] = website_developer['message_text']\n",
    "    temp_df['has_digit'] = website_developer['has_digit']\n",
    "    \n",
    "    contains_keyword = []\n",
    "    for msg in temp_df['message_text']:\n",
    "        if keyword in msg:\n",
    "            contains_keyword.append('True')\n",
    "        else:\n",
    "            contains_keyword.append('False')\n",
    "            \n",
    "    temp_df['contains_keyword'] = contains_keyword\n",
    "    return (temp_df[temp_df['contains_keyword'] == 'True'])\n",
    "    \n",
    "    \n",
    "def brand_word(keyword):\n",
    "    val = contain_keyword(keyword)\n",
    "    print(val.shape)\n",
    "    \n",
    "    val = val[val['has_digit'] == True]\n",
    "    print(val.shape)\n",
    "    \n",
    "    temp = pd.DataFrame(pd.pivot_table(val, index=['message_text'], aggfunc=pd.Series.count).index)\n",
    "    temp.to_csv('brand/' + keyword +'.txt', sep=',', header=True, index=False)\n",
    "    print(temp.shape)\n",
    "    print()\n",
    "    \n",
    "    return"
   ]
  },
  {
   "cell_type": "code",
   "execution_count": 4,
   "metadata": {},
   "outputs": [
    {
     "name": "stdout",
     "output_type": "stream",
     "text": [
      "(1850, 3)\n",
      "(931, 3)\n",
      "(333, 1)\n",
      "\n",
      "(2421, 3)\n",
      "(1282, 3)\n",
      "(374, 1)\n",
      "\n",
      "(1793, 3)\n",
      "(889, 3)\n",
      "(278, 1)\n",
      "\n",
      "(495, 3)\n",
      "(269, 3)\n",
      "(58, 1)\n",
      "\n",
      "(1555, 3)\n",
      "(810, 3)\n",
      "(226, 1)\n",
      "\n",
      "(206, 3)\n",
      "(170, 3)\n",
      "(32, 1)\n",
      "\n",
      "(222, 3)\n",
      "(177, 3)\n",
      "(72, 1)\n",
      "\n",
      "(447, 3)\n",
      "(251, 3)\n",
      "(51, 1)\n",
      "\n",
      "(238, 3)\n",
      "(195, 3)\n",
      "(15, 1)\n",
      "\n",
      "(481, 3)\n",
      "(155, 3)\n",
      "(76, 1)\n",
      "\n",
      "(398, 3)\n",
      "(332, 3)\n",
      "(57, 1)\n",
      "\n",
      "(467, 3)\n",
      "(233, 3)\n",
      "(41, 1)\n",
      "\n"
     ]
    }
   ],
   "source": [
    "brand_word('amazon')\n",
    "brand_word('ios')\n",
    "brand_word('paypal')\n",
    "brand_word('chime')\n",
    "brand_word('cashapp')\n",
    "brand_word('quickbook')\n",
    "brand_word('ebay')\n",
    "brand_word('norton')\n",
    "brand_word('mcafee')\n",
    "brand_word('roku')\n",
    "brand_word('windows')\n",
    "brand_word('delta')"
   ]
  },
  {
   "cell_type": "code",
   "execution_count": 5,
   "metadata": {},
   "outputs": [],
   "source": [
    "def display_info(query):\n",
    "    print(query)\n",
    "    query_df = df[df['website_developer'] == query]\n",
    "    print(query_df.shape)\n",
    "\n",
    "    temp = pd.DataFrame(pd.pivot_table(query_df, index=['message_text'], aggfunc=pd.Series.count).index)\n",
    "    temp.to_csv(query +'.txt', sep=',', header=True, index=False)\n",
    "    print(temp.shape)\n",
    "    print()"
   ]
  },
  {
   "cell_type": "code",
   "execution_count": 6,
   "metadata": {},
   "outputs": [
    {
     "name": "stdout",
     "output_type": "stream",
     "text": [
      "google ads\n",
      "(2961, 13)\n",
      "(914, 1)\n",
      "\n",
      "amazon\n",
      "(886, 13)\n",
      "(367, 1)\n",
      "\n",
      "ios\n",
      "(488, 13)\n",
      "(147, 1)\n",
      "\n",
      "paypal\n",
      "(501, 13)\n",
      "(123, 1)\n",
      "\n",
      "chime\n",
      "(175, 13)\n",
      "(33, 1)\n",
      "\n",
      "cashapp\n",
      "(396, 13)\n",
      "(110, 1)\n",
      "\n",
      "quickbook\n",
      "(15, 13)\n",
      "(11, 1)\n",
      "\n",
      "printer\n",
      "(234, 13)\n",
      "(42, 1)\n",
      "\n",
      "popup\n",
      "(97, 13)\n",
      "(48, 1)\n",
      "\n",
      "ebay\n",
      "(18, 13)\n",
      "(12, 1)\n",
      "\n",
      "delta\n",
      "(35, 13)\n",
      "(24, 1)\n",
      "\n",
      "bsod\n",
      "(174, 13)\n",
      "(41, 1)\n",
      "\n",
      "refund\n",
      "(186, 13)\n",
      "(60, 1)\n",
      "\n",
      "query for call center\n",
      "(11, 13)\n",
      "(7, 1)\n",
      "\n",
      "calls available\n",
      "(3267, 13)\n",
      "(887, 1)\n",
      "\n"
     ]
    }
   ],
   "source": [
    "display_info('google ads')\n",
    "display_info('amazon')\n",
    "display_info('ios')\n",
    "display_info('paypal')\n",
    "display_info('chime')\n",
    "display_info('cashapp')\n",
    "display_info('quickbook')\n",
    "display_info('printer')\n",
    "display_info('popup')\n",
    "display_info('ebay')\n",
    "display_info('delta')\n",
    "display_info('bsod')\n",
    "display_info('refund')\n",
    "display_info('query for call center')\n",
    "display_info('calls available')"
   ]
  },
  {
   "cell_type": "code",
   "execution_count": null,
   "metadata": {},
   "outputs": [],
   "source": []
  }
 ],
 "metadata": {
  "kernelspec": {
   "display_name": "Python 3",
   "language": "python",
   "name": "python3"
  },
  "language_info": {
   "codemirror_mode": {
    "name": "ipython",
    "version": 3
   },
   "file_extension": ".py",
   "mimetype": "text/x-python",
   "name": "python",
   "nbconvert_exporter": "python",
   "pygments_lexer": "ipython3",
   "version": "3.7.2"
  }
 },
 "nbformat": 4,
 "nbformat_minor": 2
}

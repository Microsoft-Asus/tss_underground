{
 "cells": [
  {
   "cell_type": "code",
   "execution_count": 1,
   "metadata": {},
   "outputs": [
    {
     "name": "stdout",
     "output_type": "stream",
     "text": [
      "(43307, 13)\n"
     ]
    },
    {
     "data": {
      "text/html": [
       "<div>\n",
       "<style scoped>\n",
       "    .dataframe tbody tr th:only-of-type {\n",
       "        vertical-align: middle;\n",
       "    }\n",
       "\n",
       "    .dataframe tbody tr th {\n",
       "        vertical-align: top;\n",
       "    }\n",
       "\n",
       "    .dataframe thead th {\n",
       "        text-align: right;\n",
       "    }\n",
       "</style>\n",
       "<table border=\"1\" class=\"dataframe\">\n",
       "  <thead>\n",
       "    <tr style=\"text-align: right;\">\n",
       "      <th></th>\n",
       "      <th>date</th>\n",
       "      <th>actor_id</th>\n",
       "      <th>message_text</th>\n",
       "      <th>chat group name</th>\n",
       "      <th>has_digit</th>\n",
       "      <th>empty_post</th>\n",
       "      <th>money_laundering</th>\n",
       "      <th>website_developer</th>\n",
       "      <th>call_center</th>\n",
       "      <th>victim_data</th>\n",
       "      <th>toll_free_number</th>\n",
       "      <th>social_media_promotion</th>\n",
       "      <th>other</th>\n",
       "    </tr>\n",
       "  </thead>\n",
       "  <tbody>\n",
       "    <tr>\n",
       "      <th>0</th>\n",
       "      <td>11/6/19, 11:31:28 AM]</td>\n",
       "      <td>Social media marketing 20:</td>\n",
       "      <td>‎messages and calls are end-to-end encrypted. ...</td>\n",
       "      <td>chat_12.txt</td>\n",
       "      <td>False</td>\n",
       "      <td>False</td>\n",
       "      <td>False</td>\n",
       "      <td>False</td>\n",
       "      <td>False</td>\n",
       "      <td>False</td>\n",
       "      <td>False</td>\n",
       "      <td>False</td>\n",
       "      <td>True</td>\n",
       "    </tr>\n",
       "    <tr>\n",
       "      <th>1</th>\n",
       "      <td>11/6/19, 11:31:28 AM]</td>\n",
       "      <td>‎‪+91 98907 76732‬ created this group\\n[11/8/1...</td>\n",
       "      <td>*🥳next week advance prediction video now avail...</td>\n",
       "      <td>chat_12.txt</td>\n",
       "      <td>True</td>\n",
       "      <td>False</td>\n",
       "      <td>False</td>\n",
       "      <td>False</td>\n",
       "      <td>False</td>\n",
       "      <td>False</td>\n",
       "      <td>False</td>\n",
       "      <td>False</td>\n",
       "      <td>True</td>\n",
       "    </tr>\n",
       "    <tr>\n",
       "      <th>2</th>\n",
       "      <td>11/9/19, 10:55:40 AM]</td>\n",
       "      <td>‪+234 701 028 3792‬:</td>\n",
       "      <td>```is there any loader in this groups in need ...</td>\n",
       "      <td>chat_12.txt</td>\n",
       "      <td>False</td>\n",
       "      <td>False</td>\n",
       "      <td>False</td>\n",
       "      <td>False</td>\n",
       "      <td>False</td>\n",
       "      <td>False</td>\n",
       "      <td>False</td>\n",
       "      <td>False</td>\n",
       "      <td>True</td>\n",
       "    </tr>\n",
       "    <tr>\n",
       "      <th>3</th>\n",
       "      <td>11/9/19, 11:53:46 AM]</td>\n",
       "      <td>‪+91 90413 82638‬:</td>\n",
       "      <td>*zeftron solutions*   *instant payout*   *most...</td>\n",
       "      <td>chat_12.txt</td>\n",
       "      <td>True</td>\n",
       "      <td>False</td>\n",
       "      <td>giftcard</td>\n",
       "      <td>amazon</td>\n",
       "      <td>False</td>\n",
       "      <td>False</td>\n",
       "      <td>False</td>\n",
       "      <td>False</td>\n",
       "      <td>False</td>\n",
       "    </tr>\n",
       "    <tr>\n",
       "      <th>4</th>\n",
       "      <td>11/9/19, 12:01:33 PM]</td>\n",
       "      <td>‪+255 745 032 469‬:</td>\n",
       "      <td>‎image omitted [</td>\n",
       "      <td>chat_12.txt</td>\n",
       "      <td>False</td>\n",
       "      <td>False</td>\n",
       "      <td>False</td>\n",
       "      <td>False</td>\n",
       "      <td>False</td>\n",
       "      <td>False</td>\n",
       "      <td>False</td>\n",
       "      <td>False</td>\n",
       "      <td>True</td>\n",
       "    </tr>\n",
       "  </tbody>\n",
       "</table>\n",
       "</div>"
      ],
      "text/plain": [
       "                    date                                           actor_id  \\\n",
       "0  11/6/19, 11:31:28 AM]                         Social media marketing 20:   \n",
       "1  11/6/19, 11:31:28 AM]  ‎‪+91 98907 76732‬ created this group\\n[11/8/1...   \n",
       "2  11/9/19, 10:55:40 AM]                               ‪+234 701 028 3792‬:   \n",
       "3  11/9/19, 11:53:46 AM]                                 ‪+91 90413 82638‬:   \n",
       "4  11/9/19, 12:01:33 PM]                                ‪+255 745 032 469‬:   \n",
       "\n",
       "                                        message_text chat group name  \\\n",
       "0  ‎messages and calls are end-to-end encrypted. ...     chat_12.txt   \n",
       "1  *🥳next week advance prediction video now avail...     chat_12.txt   \n",
       "2  ```is there any loader in this groups in need ...     chat_12.txt   \n",
       "3  *zeftron solutions*   *instant payout*   *most...     chat_12.txt   \n",
       "4                                   ‎image omitted [     chat_12.txt   \n",
       "\n",
       "   has_digit  empty_post money_laundering website_developer call_center  \\\n",
       "0      False       False            False             False       False   \n",
       "1       True       False            False             False       False   \n",
       "2      False       False            False             False       False   \n",
       "3       True       False         giftcard            amazon       False   \n",
       "4      False       False            False             False       False   \n",
       "\n",
       "  victim_data  toll_free_number social_media_promotion  other  \n",
       "0       False             False                  False   True  \n",
       "1       False             False                  False   True  \n",
       "2       False             False                  False   True  \n",
       "3       False             False                  False  False  \n",
       "4       False             False                  False   True  "
      ]
     },
     "execution_count": 1,
     "metadata": {},
     "output_type": "execute_result"
    }
   ],
   "source": [
    "import pandas as pd\n",
    "import numpy as np\n",
    "\n",
    "#pd.set_option('display.max_colwidth', None)\n",
    "pd.set_option('display.max_colwidth', 50)\n",
    "\n",
    "df = pd.read_csv('../labelled_posts.tsv', sep='\\t', header=0)\n",
    "print(df.shape)\n",
    "df.head()"
   ]
  },
  {
   "cell_type": "code",
   "execution_count": 2,
   "metadata": {},
   "outputs": [
    {
     "name": "stdout",
     "output_type": "stream",
     "text": [
      "(161, 13)\n",
      "(104, 1)\n"
     ]
    }
   ],
   "source": [
    "call_center = df[df['call_center'] != 'False']\n",
    "print(call_center.shape)\n",
    "\n",
    "temp = pd.DataFrame(pd.pivot_table(call_center, index=['message_text'], aggfunc=pd.Series.count).index)\n",
    "print(temp.shape)"
   ]
  },
  {
   "cell_type": "code",
   "execution_count": 3,
   "metadata": {},
   "outputs": [],
   "source": [
    "def display_info(query):\n",
    "    print(query)\n",
    "    query_df = df[df['call_center'] == query]\n",
    "    print(query_df.shape)\n",
    "\n",
    "    temp = pd.DataFrame(pd.pivot_table(query_df, index=['message_text'], aggfunc=pd.Series.count).index)\n",
    "    temp.to_csv(query +'.txt', sep=',', header=True, index=False)\n",
    "    print(temp.shape)\n",
    "    print()"
   ]
  },
  {
   "cell_type": "code",
   "execution_count": 4,
   "metadata": {},
   "outputs": [
    {
     "name": "stdout",
     "output_type": "stream",
     "text": [
      "need agents\n",
      "(161, 13)\n",
      "(104, 1)\n",
      "\n"
     ]
    }
   ],
   "source": [
    "display_info('need agents')"
   ]
  }
 ],
 "metadata": {
  "kernelspec": {
   "display_name": "Python 3",
   "language": "python",
   "name": "python3"
  },
  "language_info": {
   "codemirror_mode": {
    "name": "ipython",
    "version": 3
   },
   "file_extension": ".py",
   "mimetype": "text/x-python",
   "name": "python",
   "nbconvert_exporter": "python",
   "pygments_lexer": "ipython3",
   "version": "3.7.2"
  }
 },
 "nbformat": 4,
 "nbformat_minor": 2
}

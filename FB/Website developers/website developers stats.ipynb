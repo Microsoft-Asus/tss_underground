{
 "cells": [
  {
   "cell_type": "code",
   "execution_count": 7,
   "metadata": {},
   "outputs": [
    {
     "name": "stdout",
     "output_type": "stream",
     "text": [
      "(22043, 18)\n"
     ]
    }
   ],
   "source": [
    "import pandas as pd\n",
    "import numpy as np\n",
    "\n",
    "pd.set_option('display.max_colwidth', None)\n",
    "#pd.set_option('display.max_colwidth', 50)\n",
    "\n",
    "df = pd.read_csv('../labelled_posts.tsv', sep='\\t', header=0)\n",
    "print(df.shape)\n",
    "#df.head()"
   ]
  },
  {
   "cell_type": "code",
   "execution_count": 12,
   "metadata": {},
   "outputs": [
    {
     "data": {
      "text/plain": [
       "3513     https://www.facebook.com/groups/TechSupportCallsAvailable/permalink/2767246463531689/\n",
       "5193              https://www.facebook.com/groups/2002907203110372/permalink/3480053312062413/\n",
       "17731               https://www.facebook.com/groups/368213103761785/permalink/756566594926432/\n",
       "20410             https://www.facebook.com/groups/1869481983296814/permalink/2846675525577450/\n",
       "Name: url, dtype: object"
      ]
     },
     "execution_count": 12,
     "metadata": {},
     "output_type": "execute_result"
    }
   ],
   "source": [
    "df[df['message_text'] == \"paypal call available  25 - 30 call per night pay per call\"]['url']"
   ]
  },
  {
   "cell_type": "code",
   "execution_count": 2,
   "metadata": {},
   "outputs": [
    {
     "name": "stdout",
     "output_type": "stream",
     "text": [
      "(5167, 18)\n",
      "(1411, 1)\n"
     ]
    }
   ],
   "source": [
    "website_developer = df[df['website_developer'] != 'False']\n",
    "print(website_developer.shape)\n",
    "\n",
    "temp = pd.DataFrame(pd.pivot_table(website_developer, index=['message_text'], aggfunc=pd.Series.count).index)\n",
    "print(temp.shape)"
   ]
  },
  {
   "cell_type": "code",
   "execution_count": 3,
   "metadata": {},
   "outputs": [],
   "source": [
    "def contain_keyword(keyword):\n",
    "    temp_df = pd.DataFrame()\n",
    "    \n",
    "    temp_df['message_text'] = website_developer['message_text']\n",
    "    temp_df['has_digit'] = website_developer['has_digit']\n",
    "    \n",
    "    contains_keyword = []\n",
    "    for msg in temp_df['message_text']:\n",
    "        if keyword in msg:\n",
    "            contains_keyword.append('True')\n",
    "        else:\n",
    "            contains_keyword.append('False')\n",
    "            \n",
    "    temp_df['contains_keyword'] = contains_keyword\n",
    "    return (temp_df[temp_df['contains_keyword'] == 'True'])\n",
    "    \n",
    "    \n",
    "def brand_word(keyword):\n",
    "    val = contain_keyword(keyword)\n",
    "    print(val.shape)\n",
    "    \n",
    "    temp = pd.DataFrame(pd.pivot_table(val, index=['message_text'], aggfunc=pd.Series.count).index)\n",
    "    temp.to_csv('brand/' + keyword +'.txt', sep=',', header=True, index=False)\n",
    "    print(temp.shape)\n",
    "    print()\n",
    "    \n",
    "    return"
   ]
  },
  {
   "cell_type": "code",
   "execution_count": 4,
   "metadata": {},
   "outputs": [
    {
     "name": "stdout",
     "output_type": "stream",
     "text": [
      "(1754, 3)\n",
      "(424, 1)\n",
      "\n",
      "(487, 3)\n",
      "(180, 1)\n",
      "\n",
      "(912, 3)\n",
      "(298, 1)\n",
      "\n",
      "(268, 3)\n",
      "(78, 1)\n",
      "\n",
      "(710, 3)\n",
      "(185, 1)\n",
      "\n",
      "(72, 3)\n",
      "(34, 1)\n",
      "\n",
      "(550, 3)\n",
      "(124, 1)\n",
      "\n",
      "(613, 3)\n",
      "(134, 1)\n",
      "\n",
      "(92, 3)\n",
      "(30, 1)\n",
      "\n",
      "(406, 3)\n",
      "(115, 1)\n",
      "\n",
      "(127, 3)\n",
      "(49, 1)\n",
      "\n",
      "(93, 3)\n",
      "(28, 1)\n",
      "\n"
     ]
    }
   ],
   "source": [
    "brand_word('amazon')\n",
    "brand_word('ios')\n",
    "brand_word('paypal')\n",
    "brand_word('chime')\n",
    "brand_word('cashapp')\n",
    "brand_word('quickbook')\n",
    "brand_word('ebay')\n",
    "brand_word('norton')\n",
    "brand_word('mcafee')\n",
    "brand_word('roku')\n",
    "brand_word('windows')\n",
    "brand_word('delta')"
   ]
  },
  {
   "cell_type": "code",
   "execution_count": 5,
   "metadata": {},
   "outputs": [],
   "source": [
    "def display_info(query):\n",
    "    print(query)\n",
    "    query_df = df[df['website_developer'] == query]\n",
    "    print(query_df.shape)\n",
    "\n",
    "    temp = pd.DataFrame(pd.pivot_table(query_df, index=['message_text'], aggfunc=pd.Series.count).index)\n",
    "    temp.to_csv(query +'.txt', sep=',', header=True, index=False)\n",
    "    print(temp.shape)\n",
    "    print()"
   ]
  },
  {
   "cell_type": "code",
   "execution_count": 6,
   "metadata": {},
   "outputs": [
    {
     "name": "stdout",
     "output_type": "stream",
     "text": [
      "google ads\n",
      "(1369, 18)\n",
      "(418, 1)\n",
      "\n",
      "amazon\n",
      "(1090, 18)\n",
      "(236, 1)\n",
      "\n",
      "ios\n",
      "(52, 18)\n",
      "(31, 1)\n",
      "\n",
      "paypal\n",
      "(108, 18)\n",
      "(37, 1)\n",
      "\n",
      "chime\n",
      "(140, 18)\n",
      "(28, 1)\n",
      "\n",
      "cashapp\n",
      "(213, 18)\n",
      "(52, 1)\n",
      "\n",
      "quickbook\n",
      "(13, 18)\n",
      "(10, 1)\n",
      "\n",
      "printer\n",
      "(20, 18)\n",
      "(10, 1)\n",
      "\n",
      "popup\n",
      "(171, 18)\n",
      "(28, 1)\n",
      "\n",
      "ebay\n",
      "(133, 18)\n",
      "(12, 1)\n",
      "\n",
      "delta\n",
      "(13, 18)\n",
      "(7, 1)\n",
      "\n",
      "bsod\n",
      "(113, 18)\n",
      "(38, 1)\n",
      "\n",
      "refund\n",
      "(214, 18)\n",
      "(46, 1)\n",
      "\n",
      "query for call center\n",
      "(30, 18)\n",
      "(18, 1)\n",
      "\n",
      "calls available\n",
      "(1488, 18)\n",
      "(440, 1)\n",
      "\n"
     ]
    }
   ],
   "source": [
    "display_info('google ads')\n",
    "display_info('amazon')\n",
    "display_info('ios')\n",
    "display_info('paypal')\n",
    "display_info('chime')\n",
    "display_info('cashapp')\n",
    "display_info('quickbook')\n",
    "display_info('printer')\n",
    "display_info('popup')\n",
    "display_info('ebay')\n",
    "display_info('delta')\n",
    "display_info('bsod')\n",
    "display_info('refund')\n",
    "display_info('query for call center')\n",
    "display_info('calls available')"
   ]
  },
  {
   "cell_type": "code",
   "execution_count": null,
   "metadata": {},
   "outputs": [],
   "source": []
  }
 ],
 "metadata": {
  "kernelspec": {
   "display_name": "Python 3",
   "language": "python",
   "name": "python3"
  },
  "language_info": {
   "codemirror_mode": {
    "name": "ipython",
    "version": 3
   },
   "file_extension": ".py",
   "mimetype": "text/x-python",
   "name": "python",
   "nbconvert_exporter": "python",
   "pygments_lexer": "ipython3",
   "version": "3.7.2"
  }
 },
 "nbformat": 4,
 "nbformat_minor": 2
}

{
 "cells": [
  {
   "cell_type": "code",
   "execution_count": 1,
   "metadata": {},
   "outputs": [
    {
     "name": "stdout",
     "output_type": "stream",
     "text": [
      "(22043, 18)\n"
     ]
    }
   ],
   "source": [
    "import pandas as pd\n",
    "import numpy as np\n",
    "\n",
    "pd.set_option('display.max_colwidth', None)\n",
    "#pd.set_option('display.max_colwidth', 50)\n",
    "\n",
    "df = pd.read_csv('../labelled_posts.tsv', sep='\\t', header=0)\n",
    "print(df.shape)\n",
    "#df.head()"
   ]
  },
  {
   "cell_type": "code",
   "execution_count": 2,
   "metadata": {},
   "outputs": [
    {
     "data": {
      "text/html": [
       "<div>\n",
       "<style scoped>\n",
       "    .dataframe tbody tr th:only-of-type {\n",
       "        vertical-align: middle;\n",
       "    }\n",
       "\n",
       "    .dataframe tbody tr th {\n",
       "        vertical-align: top;\n",
       "    }\n",
       "\n",
       "    .dataframe thead th {\n",
       "        text-align: right;\n",
       "    }\n",
       "</style>\n",
       "<table border=\"1\" class=\"dataframe\">\n",
       "  <thead>\n",
       "    <tr style=\"text-align: right;\">\n",
       "      <th></th>\n",
       "      <th>post_id</th>\n",
       "      <th>response_id</th>\n",
       "      <th>timestamp</th>\n",
       "      <th>url</th>\n",
       "      <th>total_comment</th>\n",
       "      <th>comment_count</th>\n",
       "      <th>actor_id</th>\n",
       "      <th>actor_url</th>\n",
       "      <th>message_text</th>\n",
       "      <th>has_digit</th>\n",
       "      <th>empty_post</th>\n",
       "      <th>money_laundering</th>\n",
       "      <th>website_developer</th>\n",
       "      <th>call_center</th>\n",
       "      <th>victim_data</th>\n",
       "      <th>toll_free_number</th>\n",
       "      <th>social_media_promotion</th>\n",
       "      <th>other</th>\n",
       "    </tr>\n",
       "  </thead>\n",
       "  <tbody>\n",
       "    <tr>\n",
       "      <th>3647</th>\n",
       "      <td>4271</td>\n",
       "      <td>Tech_Support_Calls_Available/Response/response_98.json</td>\n",
       "      <td>1609961226</td>\n",
       "      <td>https://www.facebook.com/groups/TechSupportCallsAvailable/permalink/2808943122695356/</td>\n",
       "      <td>0</td>\n",
       "      <td>0</td>\n",
       "      <td>100018441955483</td>\n",
       "      <td>https://www.facebook.com/tech.mall.3</td>\n",
       "      <td>campaigns: dtv, at&amp;t, and spectrum   you'll get unlimited calls per seat for one day in $35   you will have at least two sales per agent per day.   a robotic call will be generated from my side to all the customers which says that cable tv internet services in kow price or for lowering down your bills, whoever's interested will press 1. and after that who will press one, the call will be redirected to you.   this is for 8-9 hours shift you will get unlimited calls of interested customers who will press one to avail services   maximum wait time will be 5 minutes between calls. and minimum wait time between calls is 10 seconds.  it varies.   voip dialer leads and everything will b from my side.  you just have to pay $35 per agent per day to avail the services from me.  and if you pay me weekly or monthly, i can give you a discount. if you pay me weekly or monthly then the price would be $32 per agent per day   and if you want to test it, you can test it for two days @ $32 per day per agent.image may contain: text that says 'press 1 ivr services unlimited calls for day per agent in just $35 spectrum &amp; att(dtv) you will receive calls only from interested customers for switching'</td>\n",
       "      <td>True</td>\n",
       "      <td>False</td>\n",
       "      <td>False</td>\n",
       "      <td>calls available</td>\n",
       "      <td>False</td>\n",
       "      <td>leads</td>\n",
       "      <td>False</td>\n",
       "      <td>False</td>\n",
       "      <td>False</td>\n",
       "    </tr>\n",
       "  </tbody>\n",
       "</table>\n",
       "</div>"
      ],
      "text/plain": [
       "      post_id                                             response_id  \\\n",
       "3647     4271  Tech_Support_Calls_Available/Response/response_98.json   \n",
       "\n",
       "       timestamp  \\\n",
       "3647  1609961226   \n",
       "\n",
       "                                                                                        url  \\\n",
       "3647  https://www.facebook.com/groups/TechSupportCallsAvailable/permalink/2808943122695356/   \n",
       "\n",
       "      total_comment  comment_count         actor_id  \\\n",
       "3647              0              0  100018441955483   \n",
       "\n",
       "                                 actor_url  \\\n",
       "3647  https://www.facebook.com/tech.mall.3   \n",
       "\n",
       "                                                                                                                                                                                                                                                                                                                                                                                                                                                                                                                                                                                                                                                                                                                                                                                                                                                                                                                                                                                                                                                                                                                                                                                                                                   message_text  \\\n",
       "3647  campaigns: dtv, at&t, and spectrum   you'll get unlimited calls per seat for one day in $35   you will have at least two sales per agent per day.   a robotic call will be generated from my side to all the customers which says that cable tv internet services in kow price or for lowering down your bills, whoever's interested will press 1. and after that who will press one, the call will be redirected to you.   this is for 8-9 hours shift you will get unlimited calls of interested customers who will press one to avail services   maximum wait time will be 5 minutes between calls. and minimum wait time between calls is 10 seconds.  it varies.   voip dialer leads and everything will b from my side.  you just have to pay $35 per agent per day to avail the services from me.  and if you pay me weekly or monthly, i can give you a discount. if you pay me weekly or monthly then the price would be $32 per agent per day   and if you want to test it, you can test it for two days @ $32 per day per agent.image may contain: text that says 'press 1 ivr services unlimited calls for day per agent in just $35 spectrum & att(dtv) you will receive calls only from interested customers for switching'   \n",
       "\n",
       "      has_digit  empty_post money_laundering website_developer call_center  \\\n",
       "3647       True       False            False   calls available       False   \n",
       "\n",
       "     victim_data  toll_free_number social_media_promotion  other  \n",
       "3647       leads             False                  False  False  "
      ]
     },
     "execution_count": 2,
     "metadata": {},
     "output_type": "execute_result"
    }
   ],
   "source": [
    "df[df['message_text'] == \"campaigns: dtv, at&t, and spectrum   you'll get unlimited calls per seat for one day in $35   you will have at least two sales per agent per day.   a robotic call will be generated from my side to all the customers which says that cable tv internet services in kow price or for lowering down your bills, whoever's interested will press 1. and after that who will press one, the call will be redirected to you.   this is for 8-9 hours shift you will get unlimited calls of interested customers who will press one to avail services   maximum wait time will be 5 minutes between calls. and minimum wait time between calls is 10 seconds.  it varies.   voip dialer leads and everything will b from my side.  you just have to pay $35 per agent per day to avail the services from me.  and if you pay me weekly or monthly, i can give you a discount. if you pay me weekly or monthly then the price would be $32 per agent per day   and if you want to test it, you can test it for two days @ $32 per day per agent.image may contain: text that says 'press 1 ivr services unlimited calls for day per agent in just $35 spectrum & att(dtv) you will receive calls only from interested customers for switching'\"]"
   ]
  },
  {
   "cell_type": "code",
   "execution_count": 2,
   "metadata": {},
   "outputs": [
    {
     "name": "stdout",
     "output_type": "stream",
     "text": [
      "(2107, 18)\n",
      "(699, 1)\n"
     ]
    }
   ],
   "source": [
    "victim_data = df[df['victim_data'] == 'leads']\n",
    "print(victim_data.shape)\n",
    "\n",
    "temp = pd.DataFrame(pd.pivot_table(victim_data, index=['message_text'], aggfunc=pd.Series.count).index)\n",
    "temp.to_csv('victim_data.txt', sep=',', header=True, index=False)\n",
    "print(temp.shape)"
   ]
  },
  {
   "cell_type": "code",
   "execution_count": 3,
   "metadata": {},
   "outputs": [
    {
     "name": "stdout",
     "output_type": "stream",
     "text": [
      "(870, 18)\n",
      "(282, 1)\n"
     ]
    }
   ],
   "source": [
    "blasting = df[df['victim_data'] == 'blasting']\n",
    "print(blasting.shape)\n",
    "\n",
    "temp = pd.DataFrame(pd.pivot_table(blasting, index=['message_text'], aggfunc=pd.Series.count).index)\n",
    "temp.to_csv('blasting.txt', sep=',', header=True, index=False)\n",
    "print(temp.shape)"
   ]
  },
  {
   "cell_type": "code",
   "execution_count": null,
   "metadata": {},
   "outputs": [],
   "source": []
  }
 ],
 "metadata": {
  "kernelspec": {
   "display_name": "Python 3",
   "language": "python",
   "name": "python3"
  },
  "language_info": {
   "codemirror_mode": {
    "name": "ipython",
    "version": 3
   },
   "file_extension": ".py",
   "mimetype": "text/x-python",
   "name": "python",
   "nbconvert_exporter": "python",
   "pygments_lexer": "ipython3",
   "version": "3.7.2"
  }
 },
 "nbformat": 4,
 "nbformat_minor": 2
}

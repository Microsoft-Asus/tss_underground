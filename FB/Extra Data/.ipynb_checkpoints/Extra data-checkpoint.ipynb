{
 "cells": [
  {
   "cell_type": "code",
   "execution_count": 3,
   "metadata": {},
   "outputs": [
    {
     "name": "stdout",
     "output_type": "stream",
     "text": [
      "(26437, 9)\n"
     ]
    }
   ],
   "source": [
    "import pandas as pd\n",
    "import numpy as np\n",
    "\n",
    "#pd.set_option('display.max_colwidth', None)\n",
    "pd.set_option('display.max_colwidth', 50)\n",
    "\n",
    "df = pd.read_csv('../posts.tsv', sep='\\t', header=0)\n",
    "print(df.shape)\n",
    "#df.head()"
   ]
  },
  {
   "cell_type": "code",
   "execution_count": 4,
   "metadata": {},
   "outputs": [
    {
     "name": "stdout",
     "output_type": "stream",
     "text": [
      "(6482, 10)\n"
     ]
    }
   ],
   "source": [
    "def targeted_age(msg):\n",
    "    if 'age' in msg:\n",
    "         return True\n",
    "    return False\n",
    "\n",
    "df['targeted_age'] = df['message_text'].apply(targeted_age)\n",
    "temp = df[df['targeted_age'] == True]\n",
    "\n",
    "print(temp.shape)"
   ]
  },
  {
   "cell_type": "code",
   "execution_count": 5,
   "metadata": {},
   "outputs": [
    {
     "name": "stdout",
     "output_type": "stream",
     "text": [
      "(1954, 1)\n"
     ]
    }
   ],
   "source": [
    "temp = pd.DataFrame(pd.pivot_table(temp, index=['message_text'], aggfunc=pd.Series.count).index)\n",
    "print(temp.shape)"
   ]
  },
  {
   "cell_type": "code",
   "execution_count": 6,
   "metadata": {},
   "outputs": [],
   "source": [
    "temp.to_csv('age.txt', sep=',', header=True, index=False)"
   ]
  },
  {
   "cell_type": "code",
   "execution_count": null,
   "metadata": {},
   "outputs": [],
   "source": []
  }
 ],
 "metadata": {
  "kernelspec": {
   "display_name": "Python 3",
   "language": "python",
   "name": "python3"
  },
  "language_info": {
   "codemirror_mode": {
    "name": "ipython",
    "version": 3
   },
   "file_extension": ".py",
   "mimetype": "text/x-python",
   "name": "python",
   "nbconvert_exporter": "python",
   "pygments_lexer": "ipython3",
   "version": "3.7.2"
  }
 },
 "nbformat": 4,
 "nbformat_minor": 2
}

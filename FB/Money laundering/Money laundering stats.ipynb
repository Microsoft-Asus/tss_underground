{
 "cells": [
  {
   "cell_type": "code",
   "execution_count": 26,
   "metadata": {},
   "outputs": [
    {
     "name": "stdout",
     "output_type": "stream",
     "text": [
      "(26437, 19)\n"
     ]
    }
   ],
   "source": [
    "import pandas as pd\n",
    "import numpy as np\n",
    "\n",
    "#pd.set_option('display.max_colwidth', None)\n",
    "pd.set_option('display.max_colwidth', 50)\n",
    "\n",
    "df = pd.read_csv('../labelled_posts.tsv', sep='\\t', header=0)\n",
    "print(df.shape)\n",
    "#df.head()"
   ]
  },
  {
   "cell_type": "code",
   "execution_count": 27,
   "metadata": {},
   "outputs": [
    {
     "name": "stdout",
     "output_type": "stream",
     "text": [
      "(2988, 19)\n",
      "(460, 1)\n"
     ]
    }
   ],
   "source": [
    "giftcard = df[df['money_laundering'] == 'giftcard']\n",
    "print(giftcard.shape)\n",
    "\n",
    "temp = pd.DataFrame(pd.pivot_table(giftcard, index=['message_text'], aggfunc=pd.Series.count).index)\n",
    "temp.to_csv('giftcard.txt', sep=',', header=True, index=False)\n",
    "print(temp.shape)"
   ]
  },
  {
   "cell_type": "code",
   "execution_count": 28,
   "metadata": {},
   "outputs": [
    {
     "name": "stdout",
     "output_type": "stream",
     "text": [
      "(983, 19)\n",
      "(425, 1)\n"
     ]
    }
   ],
   "source": [
    "gateway = df[df['money_laundering'] == '2d or 3d gateway']\n",
    "print(gateway.shape)\n",
    "\n",
    "temp = pd.DataFrame(pd.pivot_table(gateway, index=['message_text'], aggfunc=pd.Series.count).index)\n",
    "temp.to_csv('2d_3d gateway.txt', sep=',', header=True, index=False)\n",
    "print(temp.shape)"
   ]
  },
  {
   "cell_type": "code",
   "execution_count": 35,
   "metadata": {},
   "outputs": [
    {
     "name": "stdout",
     "output_type": "stream",
     "text": [
      "(1232, 19)\n",
      "(124, 1)\n"
     ]
    }
   ],
   "source": [
    "bank = df[df['money_laundering'] == 'bank account']\n",
    "print(bank.shape)\n",
    "\n",
    "temp = pd.DataFrame(pd.pivot_table(bank, index=['message_text'], aggfunc=pd.Series.count).index)\n",
    "temp.to_csv('bank accounts.txt', sep=',', header=True, index=False)\n",
    "print(temp.shape)"
   ]
  },
  {
   "cell_type": "code",
   "execution_count": 30,
   "metadata": {},
   "outputs": [
    {
     "name": "stdout",
     "output_type": "stream",
     "text": [
      "(185, 19)\n",
      "(73, 1)\n"
     ]
    }
   ],
   "source": [
    "bitcoin = df[df['money_laundering'] == 'bitcoin']\n",
    "print(bitcoin.shape)\n",
    "\n",
    "temp = pd.DataFrame(pd.pivot_table(bitcoin, index=['message_text'], aggfunc=pd.Series.count).index)\n",
    "temp.to_csv('bitcoin.txt', sep=',', header=True, index=False)\n",
    "print(temp.shape)"
   ]
  },
  {
   "cell_type": "code",
   "execution_count": 31,
   "metadata": {},
   "outputs": [
    {
     "name": "stdout",
     "output_type": "stream",
     "text": [
      "(4, 19)\n",
      "(4, 1)\n"
     ]
    }
   ],
   "source": [
    "card = df[df['money_laundering'] == 'card']\n",
    "print(card.shape)\n",
    "\n",
    "temp = pd.DataFrame(pd.pivot_table(card, index=['message_text'], aggfunc=pd.Series.count).index)\n",
    "temp.to_csv('credit card.txt', sep=',', header=True, index=False)\n",
    "print(temp.shape)"
   ]
  },
  {
   "cell_type": "code",
   "execution_count": 32,
   "metadata": {},
   "outputs": [
    {
     "name": "stdout",
     "output_type": "stream",
     "text": [
      "(1062, 19)\n",
      "(271, 1)\n"
     ]
    }
   ],
   "source": [
    "other_payment_forms = df[df['money_laundering'] == 'other payment forms']\n",
    "print(other_payment_forms.shape)\n",
    "\n",
    "temp = pd.DataFrame(pd.pivot_table(other_payment_forms, index=['message_text'], aggfunc=pd.Series.count).index)\n",
    "temp.to_csv('other payment forms.txt', sep=',', header=True, index=False)\n",
    "print(temp.shape)"
   ]
  },
  {
   "cell_type": "code",
   "execution_count": 33,
   "metadata": {},
   "outputs": [
    {
     "name": "stdout",
     "output_type": "stream",
     "text": [
      "(223, 19)\n",
      "(78, 1)\n"
     ]
    }
   ],
   "source": [
    "blocking = df[df['money_laundering'] == 'blocking available']\n",
    "print(blocking.shape)\n",
    "\n",
    "temp = pd.DataFrame(pd.pivot_table(blocking, index=['message_text'], aggfunc=pd.Series.count).index)\n",
    "temp.to_csv('blocking.txt', sep=',', header=True, index=False)\n",
    "print(temp.shape)"
   ]
  },
  {
   "cell_type": "code",
   "execution_count": 34,
   "metadata": {},
   "outputs": [
    {
     "name": "stdout",
     "output_type": "stream",
     "text": [
      "(6677, 19)\n",
      "(1435, 1)\n"
     ]
    }
   ],
   "source": [
    "money_laundering = df[df['money_laundering'] != 'False']\n",
    "print(money_laundering.shape)\n",
    "\n",
    "temp = pd.DataFrame(pd.pivot_table(money_laundering, index=['message_text'], aggfunc=pd.Series.count).index)\n",
    "print(temp.shape)"
   ]
  },
  {
   "cell_type": "code",
   "execution_count": null,
   "metadata": {},
   "outputs": [],
   "source": []
  }
 ],
 "metadata": {
  "kernelspec": {
   "display_name": "Python 3",
   "language": "python",
   "name": "python3"
  },
  "language_info": {
   "codemirror_mode": {
    "name": "ipython",
    "version": 3
   },
   "file_extension": ".py",
   "mimetype": "text/x-python",
   "name": "python",
   "nbconvert_exporter": "python",
   "pygments_lexer": "ipython3",
   "version": "3.7.2"
  }
 },
 "nbformat": 4,
 "nbformat_minor": 2
}

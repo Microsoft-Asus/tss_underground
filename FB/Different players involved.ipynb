{
 "cells": [
  {
   "cell_type": "code",
   "execution_count": 1,
   "metadata": {},
   "outputs": [
    {
     "name": "stdout",
     "output_type": "stream",
     "text": [
      "(26437, 9)\n"
     ]
    },
    {
     "data": {
      "text/html": [
       "<div>\n",
       "<style scoped>\n",
       "    .dataframe tbody tr th:only-of-type {\n",
       "        vertical-align: middle;\n",
       "    }\n",
       "\n",
       "    .dataframe tbody tr th {\n",
       "        vertical-align: top;\n",
       "    }\n",
       "\n",
       "    .dataframe thead th {\n",
       "        text-align: right;\n",
       "    }\n",
       "</style>\n",
       "<table border=\"1\" class=\"dataframe\">\n",
       "  <thead>\n",
       "    <tr style=\"text-align: right;\">\n",
       "      <th></th>\n",
       "      <th>post_id</th>\n",
       "      <th>response_id</th>\n",
       "      <th>timestamp</th>\n",
       "      <th>url</th>\n",
       "      <th>total_comment</th>\n",
       "      <th>comment_count</th>\n",
       "      <th>actor_id</th>\n",
       "      <th>actor_url</th>\n",
       "      <th>message_text</th>\n",
       "    </tr>\n",
       "  </thead>\n",
       "  <tbody>\n",
       "    <tr>\n",
       "      <th>0</th>\n",
       "      <td>0</td>\n",
       "      <td>SEO_PPC_Tech_support/Response/response_82.json</td>\n",
       "      <td>1610004359</td>\n",
       "      <td>https://www.facebook.com/groups/44233687260999...</td>\n",
       "      <td>0</td>\n",
       "      <td>0</td>\n",
       "      <td>100032384902900</td>\n",
       "      <td>https://www.facebook.com/people/Akhil-Sinha-Re...</td>\n",
       "      <td>*namaste*🙏🤝 🇺🇸🇨🇦🇬🇧🇰🇾🆗 *blocking pickup service...</td>\n",
       "    </tr>\n",
       "    <tr>\n",
       "      <th>1</th>\n",
       "      <td>1</td>\n",
       "      <td>SEO_PPC_Tech_support/Response/response_82.json</td>\n",
       "      <td>1609999274</td>\n",
       "      <td>https://www.facebook.com/groups/44233687260999...</td>\n",
       "      <td>0</td>\n",
       "      <td>0</td>\n",
       "      <td>100004129564748</td>\n",
       "      <td>https://www.facebook.com/people/Shubham-Mishra...</td>\n",
       "      <td>cashapp available in gud flow pure ppc calls  ...</td>\n",
       "    </tr>\n",
       "    <tr>\n",
       "      <th>2</th>\n",
       "      <td>2</td>\n",
       "      <td>SEO_PPC_Tech_support/Response/response_82.json</td>\n",
       "      <td>1609984311</td>\n",
       "      <td>https://www.facebook.com/groups/44233687260999...</td>\n",
       "      <td>0</td>\n",
       "      <td>0</td>\n",
       "      <td>100053502061434</td>\n",
       "      <td>https://www.facebook.com/jason.watts.9638718</td>\n",
       "      <td>email blasting data ivr data press 1 data and ...</td>\n",
       "    </tr>\n",
       "    <tr>\n",
       "      <th>3</th>\n",
       "      <td>3</td>\n",
       "      <td>SEO_PPC_Tech_support/Response/response_451.json</td>\n",
       "      <td>1604925322</td>\n",
       "      <td>https://www.facebook.com/groups/44233687260999...</td>\n",
       "      <td>0</td>\n",
       "      <td>0</td>\n",
       "      <td>100031520135794</td>\n",
       "      <td>https://www.facebook.com/people/Piryank-Sharma...</td>\n",
       "      <td>☠️ zelle and gpay 👉instant payment👈 ☠️ cash ap...</td>\n",
       "    </tr>\n",
       "    <tr>\n",
       "      <th>4</th>\n",
       "      <td>4</td>\n",
       "      <td>SEO_PPC_Tech_support/Response/response_451.json</td>\n",
       "      <td>1604924959</td>\n",
       "      <td>https://www.facebook.com/groups/44233687260999...</td>\n",
       "      <td>0</td>\n",
       "      <td>0</td>\n",
       "      <td>100055968734764</td>\n",
       "      <td>https://www.facebook.com/people/Sahil-Singh/10...</td>\n",
       "      <td>*hello centers*,  we are providing services ac...</td>\n",
       "    </tr>\n",
       "  </tbody>\n",
       "</table>\n",
       "</div>"
      ],
      "text/plain": [
       "   post_id                                      response_id   timestamp  \\\n",
       "0        0   SEO_PPC_Tech_support/Response/response_82.json  1610004359   \n",
       "1        1   SEO_PPC_Tech_support/Response/response_82.json  1609999274   \n",
       "2        2   SEO_PPC_Tech_support/Response/response_82.json  1609984311   \n",
       "3        3  SEO_PPC_Tech_support/Response/response_451.json  1604925322   \n",
       "4        4  SEO_PPC_Tech_support/Response/response_451.json  1604924959   \n",
       "\n",
       "                                                 url  total_comment  \\\n",
       "0  https://www.facebook.com/groups/44233687260999...              0   \n",
       "1  https://www.facebook.com/groups/44233687260999...              0   \n",
       "2  https://www.facebook.com/groups/44233687260999...              0   \n",
       "3  https://www.facebook.com/groups/44233687260999...              0   \n",
       "4  https://www.facebook.com/groups/44233687260999...              0   \n",
       "\n",
       "   comment_count         actor_id  \\\n",
       "0              0  100032384902900   \n",
       "1              0  100004129564748   \n",
       "2              0  100053502061434   \n",
       "3              0  100031520135794   \n",
       "4              0  100055968734764   \n",
       "\n",
       "                                           actor_url  \\\n",
       "0  https://www.facebook.com/people/Akhil-Sinha-Re...   \n",
       "1  https://www.facebook.com/people/Shubham-Mishra...   \n",
       "2       https://www.facebook.com/jason.watts.9638718   \n",
       "3  https://www.facebook.com/people/Piryank-Sharma...   \n",
       "4  https://www.facebook.com/people/Sahil-Singh/10...   \n",
       "\n",
       "                                        message_text  \n",
       "0  *namaste*🙏🤝 🇺🇸🇨🇦🇬🇧🇰🇾🆗 *blocking pickup service...  \n",
       "1  cashapp available in gud flow pure ppc calls  ...  \n",
       "2  email blasting data ivr data press 1 data and ...  \n",
       "3  ☠️ zelle and gpay 👉instant payment👈 ☠️ cash ap...  \n",
       "4  *hello centers*,  we are providing services ac...  "
      ]
     },
     "execution_count": 1,
     "metadata": {},
     "output_type": "execute_result"
    }
   ],
   "source": [
    "import pandas as pd\n",
    "import numpy as np\n",
    "\n",
    "#pd.set_option('display.max_colwidth', None)\n",
    "pd.set_option('display.max_colwidth', 50)\n",
    "\n",
    "df = pd.read_csv('posts.tsv', sep='\\t', header=0)\n",
    "print(df.shape)\n",
    "df.head()"
   ]
  },
  {
   "cell_type": "code",
   "execution_count": 2,
   "metadata": {},
   "outputs": [
    {
     "data": {
      "text/plain": [
       "(12640, 10)"
      ]
     },
     "execution_count": 2,
     "metadata": {},
     "output_type": "execute_result"
    }
   ],
   "source": [
    "import re\n",
    "import phonenumbers\n",
    "\n",
    "def has_numbers(input_string):\n",
    "    numbers = re.findall('(\\d)', input_string)\n",
    "    if len(numbers) == 0:\n",
    "        return False\n",
    "    \n",
    "    if len(numbers) == 1: \n",
    "        if phonenumbers.PhoneNumberMatcher(input_string, 'US'):\n",
    "            return False\n",
    "    \n",
    "    return True\n",
    "    \n",
    "\n",
    "df['has_digit'] = df['message_text'].apply(has_numbers) \n",
    "df[df['has_digit'] == True].shape"
   ]
  },
  {
   "cell_type": "code",
   "execution_count": 13,
   "metadata": {},
   "outputs": [
    {
     "name": "stdout",
     "output_type": "stream",
     "text": [
      "(22043, 18)\n",
      "(7596, 17)\n",
      "(2229, 17)\n",
      "14415\n"
     ]
    }
   ],
   "source": [
    "def empty_post(msg):\n",
    "    if msg == 'na':\n",
    "         return True\n",
    "    return False\n",
    "\n",
    "df['empty_post'] = df['message_text'].apply(empty_post)\n",
    "\n",
    "df = df[df['empty_post'] == False]\n",
    "print(df.shape)\n",
    "print(pd.pivot_table(df, index=['message_text'], aggfunc=pd.Series.count).shape)\n",
    "print(pd.pivot_table(df, index=['actor_id'], aggfunc=pd.Series.count).shape)\n",
    "print(df['total_comment'].sum(axis=0, skipna=True))"
   ]
  },
  {
   "cell_type": "code",
   "execution_count": 4,
   "metadata": {},
   "outputs": [
    {
     "name": "stdout",
     "output_type": "stream",
     "text": [
      "(6677, 12)\n",
      "(1435, 11)\n",
      "(541, 11)\n",
      "3097\n"
     ]
    }
   ],
   "source": [
    "def money_laundering(msg):\n",
    "    \n",
    "    available = 'available' in msg\n",
    "    payment = 'payment' in msg or 'payout' in msg\n",
    "    blocking = 'blocking' in msg\n",
    "    \n",
    "    giftcard = 'gift card' in msg or 'giftcard' in msg or 'gifts card' in msg \n",
    "    if giftcard and (blocking or available or payment):\n",
    "        return 'giftcard'\n",
    "    \n",
    "    \n",
    "    gateway = 'gatewy' in msg or 'gateway' in msg or 'gatway' in msg\n",
    "    payment_form = gateway or payment or 'loader' in msg or 'merchant' in msg or 'link' in msg\n",
    "    two_d = '2d' in msg or '2-d' in msg or '2 d' in msg or '3d' in msg or '3-d' in msg or '3 d' in msg or 'e check' in msg\n",
    "    if two_d and payment_form:\n",
    "        return '2d or 3d gateway'\n",
    "    \n",
    "    \n",
    "    bank = 'bank account' in msg\n",
    "    if bank:\n",
    "        return 'bank account'\n",
    "    \n",
    "    \n",
    "    seller = 'sell' in msg or 'buy' in msg or 'trader' in msg or 'flash' in msg\n",
    "    bitcoin = 'btc' in msg\n",
    "    if bitcoin and seller:\n",
    "        return 'bitcoin'\n",
    "    \n",
    "    \n",
    "    loader = 'loader' in msg\n",
    "    card = 'mastercard' in msg or 'americanexpress' in msg or 'amex' in msg\n",
    "    if card and loader and available:\n",
    "        return 'card'\n",
    "    \n",
    "    \n",
    "    different_payments = 'chime' in msg or 'paypal' in msg or 'zelle' in msg or 'g-pay' in msg or 'apple' in msg\n",
    "    if different_payments and payment:\n",
    "        return 'other payment forms'\n",
    "    \n",
    "    if blocking and (payment or available):\n",
    "        return 'blocking available'\n",
    "    \n",
    "    return False\n",
    "\n",
    "\n",
    "df['money_laundering'] = df['message_text'].apply(money_laundering)\n",
    "temp = df[df['money_laundering'] != False]\n",
    "\n",
    "print(temp.shape)\n",
    "\n",
    "print(pd.pivot_table(temp, index=['message_text'], aggfunc=pd.Series.count).shape)\n",
    "print(pd.pivot_table(temp, index=['actor_id'], aggfunc=pd.Series.count).shape)\n",
    "print(temp['total_comment'].sum(axis=0, skipna=True))"
   ]
  },
  {
   "cell_type": "code",
   "execution_count": 5,
   "metadata": {},
   "outputs": [
    {
     "name": "stdout",
     "output_type": "stream",
     "text": [
      "(5167, 13)\n",
      "(1411, 12)\n",
      "(525, 12)\n",
      "1908\n"
     ]
    }
   ],
   "source": [
    "def website_developer(msg):\n",
    "    \n",
    "    available = 'avail' in msg or 'active' in msg or 'running' in msg or 'book' in msg or 'live' in msg or ' cc ' in msg or 'order more' in msg or 'direct center' in msg\n",
    "    call = 'call' in msg or 'cll' in msg\n",
    "    \n",
    "    call_or_available = call and available\n",
    "    \n",
    "    google_ads = ('adword' in msg or 'ppc' in msg) and ('campaign' in msg or 'account' in msg or call or available)\n",
    "    if google_ads:\n",
    "        return 'google ads'\n",
    "    \n",
    "    \n",
    "    if 'amazon' in msg and call_or_available:\n",
    "        return 'amazon'\n",
    "    \n",
    "\n",
    "    if 'ios' in msg and call_or_available:\n",
    "        return 'ios'\n",
    "    \n",
    "    \n",
    "    if 'paypal' in msg and call_or_available:\n",
    "        return 'paypal'\n",
    "    \n",
    "   \n",
    "    if 'chime' in msg and call_or_available:\n",
    "        return 'chime'\n",
    "    \n",
    "   \n",
    "    if ('cashapp' in msg or 'cash app' in msg) and call_or_available:\n",
    "        return 'cashapp'\n",
    "    \n",
    "    \n",
    "    if ('quickbook' in msg) and call_or_available:\n",
    "        return 'quickbook'\n",
    "    \n",
    "    \n",
    "    if 'printer' in msg and call_or_available:\n",
    "        return 'printer'\n",
    "    \n",
    "   \n",
    "    if 'popup' in msg and call_or_available:\n",
    "        return 'popup'\n",
    "    \n",
    "    \n",
    "    if 'ebay' in msg and call_or_available:\n",
    "        return 'ebay'\n",
    "    \n",
    "    \n",
    "    if 'delta' in msg and call_or_available:\n",
    "        return 'delta'\n",
    "    \n",
    "    \n",
    "    if 'bsod' in msg and call_or_available:\n",
    "        return 'bsod'\n",
    "    \n",
    "    if 'refund' in msg and call_or_available:\n",
    "        return 'refund'\n",
    "    \n",
    "    \n",
    "    if ' cc details ' in msg or 'indian cc' in msg or ' cc data ' in msg:\n",
    "        return 'query for call center'\n",
    "    \n",
    "    \n",
    "    if 'website traffic available' in msg or (call and available):\n",
    "        return 'calls available'\n",
    "    \n",
    "    return False\n",
    "\n",
    "df['website_developer'] = df['message_text'].apply(website_developer)\n",
    "temp = df[df['website_developer'] != False]\n",
    "print(temp.shape)\n",
    "\n",
    "\n",
    "print(pd.pivot_table(temp, index=['message_text'], aggfunc=pd.Series.count).shape)\n",
    "print(pd.pivot_table(temp, index=['actor_id'], aggfunc=pd.Series.count).shape)\n",
    "print(temp['total_comment'].sum(axis=0, skipna=True))"
   ]
  },
  {
   "cell_type": "code",
   "execution_count": 6,
   "metadata": {},
   "outputs": [
    {
     "name": "stdout",
     "output_type": "stream",
     "text": [
      "(1322, 14)\n",
      "(516, 13)\n",
      "(245, 13)\n",
      "1005\n"
     ]
    }
   ],
   "source": [
    "def call_center(msg):\n",
    "    looking = 'looking' in msg or 'hiring' in msg or 'required' in msg or 'need' in msg\n",
    "    agent = 'agent' in msg or 'fresher' in msg\n",
    "    \n",
    "    if agent and looking:\n",
    "        return 'need agents'\n",
    "    \n",
    "    return False\n",
    "\n",
    "df['call_center'] = df['message_text'].apply(call_center)\n",
    "temp = df[df['call_center'] != False]\n",
    "print(temp.shape)\n",
    "\n",
    "print(pd.pivot_table(temp, index=['message_text'], aggfunc=pd.Series.count).shape)\n",
    "print(pd.pivot_table(temp, index=['actor_id'], aggfunc=pd.Series.count).shape)\n",
    "print(temp['total_comment'].sum(axis=0, skipna=True))"
   ]
  },
  {
   "cell_type": "code",
   "execution_count": 7,
   "metadata": {},
   "outputs": [
    {
     "name": "stdout",
     "output_type": "stream",
     "text": [
      "(2977, 15)\n",
      "(981, 14)\n",
      "(367, 14)\n",
      "1521\n"
     ]
    }
   ],
   "source": [
    "def victim_data(msg):\n",
    "    lead = 'lead' in msg or 'data' in msg\n",
    "    email = 'email' in msg and lead\n",
    "    refund = 'refund' in msg and lead\n",
    "    ivr = 'ivr' in msg and lead\n",
    "    fresh = 'fresh' in msg and lead\n",
    "    data = 'data available' in msg\n",
    "    \n",
    "    smtp = 'smtp' in msg\n",
    "    bulk_sms = 'bulk sms' in msg\n",
    "    blasting = 'email' in msg and 'blast' in msg\n",
    "\n",
    "    if email or refund or ivr or fresh or data:\n",
    "        return 'leads'\n",
    "    \n",
    "    if blasting or smtp or bulk_sms:\n",
    "        return 'blasting'\n",
    "    return False\n",
    "\n",
    "df['victim_data'] = df['message_text'].apply(victim_data)\n",
    "temp = df[df['victim_data'] != False]\n",
    "\n",
    "print(temp.shape)\n",
    "\n",
    "print(pd.pivot_table(temp, index=['message_text'], aggfunc=pd.Series.count).shape)\n",
    "print(pd.pivot_table(temp, index=['actor_id'], aggfunc=pd.Series.count).shape)\n",
    "print(temp['total_comment'].sum(axis=0, skipna=True))"
   ]
  },
  {
   "cell_type": "code",
   "execution_count": 8,
   "metadata": {},
   "outputs": [
    {
     "name": "stdout",
     "output_type": "stream",
     "text": [
      "(1324, 16)\n",
      "(295, 15)\n",
      "(125, 15)\n",
      "246\n"
     ]
    }
   ],
   "source": [
    "def toll_free_number(msg):\n",
    "    available = 'available' in msg or 'avail' in msg or 'providing' in msg or 'get unlimited call' in msg\n",
    "    toll_free_number = ('tfn' in msg or 'toll free' in msg or 'toll-free' in msg) and available\n",
    "    did = 'did' in msg and available\n",
    "    \n",
    "    if toll_free_number or did:\n",
    "        return True\n",
    "    return False\n",
    "\n",
    "df['toll_free_number'] = df['message_text'].apply(toll_free_number)\n",
    "temp = df[df['toll_free_number'] != False]\n",
    "\n",
    "print(temp.shape)\n",
    "\n",
    "print(pd.pivot_table(temp, index=['message_text'], aggfunc=pd.Series.count).shape)\n",
    "print(pd.pivot_table(temp, index=['actor_id'], aggfunc=pd.Series.count).shape)\n",
    "print(temp['total_comment'].sum(axis=0, skipna=True))"
   ]
  },
  {
   "cell_type": "code",
   "execution_count": 9,
   "metadata": {},
   "outputs": [
    {
     "name": "stdout",
     "output_type": "stream",
     "text": [
      "(331, 17)\n",
      "(108, 16)\n",
      "(70, 16)\n",
      "74\n"
     ]
    }
   ],
   "source": [
    "def seo(msg):\n",
    "    if ' seo' in msg or 'social media promotion' in msg or 'social media service' in msg or 'digital maketing' in msg:\n",
    "        return 'social media promotion'\n",
    "    return False\n",
    "    \n",
    "df['social_media_promotion'] = df['message_text'].apply(seo)\n",
    "temp = df[df['social_media_promotion'] != False]\n",
    "\n",
    "print(temp.shape)\n",
    "\n",
    "print(pd.pivot_table(temp, index=['message_text'], aggfunc=pd.Series.count).shape)\n",
    "print(pd.pivot_table(temp, index=['actor_id'], aggfunc=pd.Series.count).shape)\n",
    "print(temp['total_comment'].sum(axis=0, skipna=True))"
   ]
  },
  {
   "cell_type": "code",
   "execution_count": 10,
   "metadata": {},
   "outputs": [
    {
     "name": "stdout",
     "output_type": "stream",
     "text": [
      "(7356, 18)\n",
      "(3578, 17)\n",
      "(1498, 17)\n",
      "7292\n"
     ]
    }
   ],
   "source": [
    "def other(msg):\n",
    "    logic = empty_post(msg) or money_laundering(msg) or website_developer(msg) or call_center(msg) or victim_data(msg) or seo(msg) or toll_free_number(msg)\n",
    "        \n",
    "    if not logic:\n",
    "        return True\n",
    "    return False\n",
    "    \n",
    "\n",
    "df['other'] = df['message_text'].apply(other)\n",
    "temp = df[df['other'] == True]\n",
    "\n",
    "print(temp.shape)\n",
    "print(pd.pivot_table(temp, index=['message_text'], aggfunc=pd.Series.count).shape)\n",
    "print(pd.pivot_table(temp, index=['actor_id'], aggfunc=pd.Series.count).shape)\n",
    "print(temp['total_comment'].sum(axis=0, skipna=True))"
   ]
  },
  {
   "cell_type": "code",
   "execution_count": 11,
   "metadata": {},
   "outputs": [],
   "source": [
    "df.to_csv('labelled_posts.tsv', sep='\\t', header=True, index=False)"
   ]
  }
 ],
 "metadata": {
  "kernelspec": {
   "display_name": "Python 3",
   "language": "python",
   "name": "python3"
  },
  "language_info": {
   "codemirror_mode": {
    "name": "ipython",
    "version": 3
   },
   "file_extension": ".py",
   "mimetype": "text/x-python",
   "name": "python",
   "nbconvert_exporter": "python",
   "pygments_lexer": "ipython3",
   "version": "3.7.2"
  }
 },
 "nbformat": 4,
 "nbformat_minor": 2
}

{
 "cells": [
  {
   "cell_type": "code",
   "execution_count": 1,
   "metadata": {},
   "outputs": [
    {
     "name": "stdout",
     "output_type": "stream",
     "text": [
      "(26437, 19)\n"
     ]
    }
   ],
   "source": [
    "import pandas as pd\n",
    "import numpy as np\n",
    "\n",
    "#pd.set_option('display.max_colwidth', None)\n",
    "pd.set_option('display.max_colwidth', 50)\n",
    "\n",
    "df = pd.read_csv('../labelled_posts.tsv', sep='\\t', header=0)\n",
    "print(df.shape)\n",
    "#df.head()"
   ]
  },
  {
   "cell_type": "code",
   "execution_count": 2,
   "metadata": {},
   "outputs": [
    {
     "name": "stdout",
     "output_type": "stream",
     "text": [
      "(1409, 19)\n",
      "(552, 1)\n"
     ]
    }
   ],
   "source": [
    "call_center = df[df['call_center'] != 'False']\n",
    "print(call_center.shape)\n",
    "\n",
    "temp = pd.DataFrame(pd.pivot_table(call_center, index=['message_text'], aggfunc=pd.Series.count).index)\n",
    "print(temp.shape)"
   ]
  },
  {
   "cell_type": "code",
   "execution_count": 3,
   "metadata": {},
   "outputs": [],
   "source": [
    "def display_info(query):\n",
    "    print(query)\n",
    "    query_df = df[df['call_center'] == query]\n",
    "    print(query_df.shape)\n",
    "\n",
    "    temp = pd.DataFrame(pd.pivot_table(query_df, index=['message_text'], aggfunc=pd.Series.count).index)\n",
    "    temp.to_csv(query +'.txt', sep=',', header=True, index=False)\n",
    "    print(temp.shape)\n",
    "    print()"
   ]
  },
  {
   "cell_type": "code",
   "execution_count": 4,
   "metadata": {},
   "outputs": [
    {
     "name": "stdout",
     "output_type": "stream",
     "text": [
      "need agents\n",
      "(1409, 19)\n",
      "(552, 1)\n",
      "\n"
     ]
    }
   ],
   "source": [
    "display_info('need agents')"
   ]
  },
  {
   "cell_type": "code",
   "execution_count": null,
   "metadata": {},
   "outputs": [],
   "source": []
  }
 ],
 "metadata": {
  "kernelspec": {
   "display_name": "Python 3",
   "language": "python",
   "name": "python3"
  },
  "language_info": {
   "codemirror_mode": {
    "name": "ipython",
    "version": 3
   },
   "file_extension": ".py",
   "mimetype": "text/x-python",
   "name": "python",
   "nbconvert_exporter": "python",
   "pygments_lexer": "ipython3",
   "version": "3.7.2"
  }
 },
 "nbformat": 4,
 "nbformat_minor": 2
}
